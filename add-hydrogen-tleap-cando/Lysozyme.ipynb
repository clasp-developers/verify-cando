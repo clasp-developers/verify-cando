{
 "cells": [
  {
   "cell_type": "code",
   "execution_count": 1,
   "metadata": {},
   "outputs": [
    {
     "data": {
      "text/plain": [
       "(#P\"/opt/amber18/dat/antechamber/\" #P\"/opt/amber18/dat/leap/cmd/\"\n",
       " #P\"/opt/amber18/dat/leap/parm/\" #P\"/opt/amber18/dat/leap/lib/\"\n",
       " #P\"/opt/amber18/dat/leap/prep/\")"
      ]
     },
     "execution_count": 1,
     "metadata": {},
     "output_type": "execute_result"
    }
   ],
   "source": [
    "(setf (logical-pathname-translations \"amber\") \n",
    "      (list (list \"**;*.*\" (concatenate 'string (ext:getenv \"AMBERHOME\") \"/**/*.*\"))))\n",
    "(leap.core:clear-path)\n",
    "(leap.core:add-path \"amber:dat;leap;prep;\")\n",
    "(leap.core:add-path \"amber:dat;leap;lib;\")\n",
    "(leap.core:add-path \"amber:dat;leap;parm;\")\n",
    "(leap.core:add-path \"amber:dat;leap;cmd;\")\n",
    "(add-path \"amber:dat;antechamber;\")"
   ]
  },
  {
   "cell_type": "code",
   "execution_count": 2,
   "metadata": {},
   "outputs": [
    {
     "name": "stderr",
     "output_type": "stream",
     "text": [
      "add-atom-types doesn't do anything\n",
      "Warning!  Skipping 10-12 hbond\n",
      "\n",
      "Warning!  Skipping force field atom equivalences\n",
      "\n"
     ]
    },
    {
     "data": {
      "text/plain": [
       "T"
      ]
     },
     "execution_count": 2,
     "metadata": {},
     "output_type": "execute_result"
    }
   ],
   "source": [
    "(source #P\"leaprc.protein.ff14SB\")"
   ]
  },
  {
   "cell_type": "code",
   "execution_count": 3,
   "metadata": {},
   "outputs": [
    {
     "name": "stdout",
     "output_type": "stream",
     "text": [
      "popped residue: #<PDB-RESIDUE MET>\n",
      "popped residue: #<PDB-RESIDUE ASN>\n",
      "popped residue: #<PDB-RESIDUE ILE>\n",
      "popped residue: #<PDB-RESIDUE PHE>\n",
      "popped residue: #<PDB-RESIDUE GLU>\n",
      "popped residue: #<PDB-RESIDUE MET>\n",
      "popped residue: #<PDB-RESIDUE LEU>\n",
      "popped residue: #<PDB-RESIDUE ARG>\n",
      "popped residue: #<PDB-RESIDUE ILE>\n",
      "popped residue: #<PDB-RESIDUE ASP>\n",
      "popped residue: #<PDB-RESIDUE GLU>\n",
      "popped residue: #<PDB-RESIDUE GLY>\n",
      "popped residue: #<PDB-RESIDUE LEU>\n",
      "popped residue: #<PDB-RESIDUE ARG>\n",
      "popped residue: #<PDB-RESIDUE LEU>\n",
      "popped residue: #<PDB-RESIDUE LYS>\n",
      "popped residue: #<PDB-RESIDUE ILE>\n",
      "popped residue: #<PDB-RESIDUE TYR>\n",
      "popped residue: #<PDB-RESIDUE LYS>\n",
      "popped residue: #<PDB-RESIDUE ASP>\n",
      "popped residue: #<PDB-RESIDUE THR>\n",
      "popped residue: #<PDB-RESIDUE GLU>\n",
      "popped residue: #<PDB-RESIDUE GLY>\n",
      "popped residue: #<PDB-RESIDUE TYR>\n",
      "popped residue: #<PDB-RESIDUE TYR>\n",
      "popped residue: #<PDB-RESIDUE THR>\n",
      "popped residue: #<PDB-RESIDUE ILE>\n",
      "popped residue: #<PDB-RESIDUE GLY>\n",
      "popped residue: #<PDB-RESIDUE ILE>\n",
      "popped residue: #<PDB-RESIDUE GLY>\n",
      "popped residue: #<PDB-RESIDUE HIE>\n",
      "popped residue: #<PDB-RESIDUE LEU>\n",
      "popped residue: #<PDB-RESIDUE LEU>\n",
      "popped residue: #<PDB-RESIDUE THR>\n",
      "popped residue: #<PDB-RESIDUE LYS>\n",
      "popped residue: #<PDB-RESIDUE SER>\n",
      "popped residue: #<PDB-RESIDUE PRO>\n",
      "popped residue: #<PDB-RESIDUE SER>\n",
      "popped residue: #<PDB-RESIDUE LEU>\n",
      "popped residue: #<PDB-RESIDUE ASN>\n",
      "popped residue: #<PDB-RESIDUE ALA>\n",
      "popped residue: #<PDB-RESIDUE ALA>\n",
      "popped residue: #<PDB-RESIDUE LYS>\n",
      "popped residue: #<PDB-RESIDUE SER>\n",
      "popped residue: #<PDB-RESIDUE GLU>\n",
      "popped residue: #<PDB-RESIDUE LEU>\n",
      "popped residue: #<PDB-RESIDUE ASP>\n",
      "popped residue: #<PDB-RESIDUE LYS>\n",
      "popped residue: #<PDB-RESIDUE ALA>\n",
      "popped residue: #<PDB-RESIDUE ILE>\n",
      "popped residue: #<PDB-RESIDUE GLY>\n",
      "popped residue: #<PDB-RESIDUE ARG>\n",
      "popped residue: #<PDB-RESIDUE ASN>\n",
      "popped residue: #<PDB-RESIDUE THR>\n",
      "popped residue: #<PDB-RESIDUE ASN>\n",
      "popped residue: #<PDB-RESIDUE GLY>\n",
      "popped residue: #<PDB-RESIDUE VAL>\n",
      "popped residue: #<PDB-RESIDUE ILE>\n",
      "popped residue: #<PDB-RESIDUE THR>\n",
      "popped residue: #<PDB-RESIDUE LYS>\n",
      "popped residue: #<PDB-RESIDUE ASP>\n",
      "popped residue: #<PDB-RESIDUE GLU>\n",
      "popped residue: #<PDB-RESIDUE ALA>\n",
      "popped residue: #<PDB-RESIDUE GLU>\n",
      "popped residue: #<PDB-RESIDUE LYS>\n",
      "popped residue: #<PDB-RESIDUE LEU>\n",
      "popped residue: #<PDB-RESIDUE PHE>\n",
      "popped residue: #<PDB-RESIDUE ASN>\n",
      "popped residue: #<PDB-RESIDUE GLN>\n",
      "popped residue: #<PDB-RESIDUE ASP>\n",
      "popped residue: #<PDB-RESIDUE VAL>\n",
      "popped residue: #<PDB-RESIDUE ASP>\n",
      "popped residue: #<PDB-RESIDUE ALA>\n",
      "popped residue: #<PDB-RESIDUE ALA>\n",
      "popped residue: #<PDB-RESIDUE VAL>\n",
      "popped residue: #<PDB-RESIDUE ARG>\n",
      "popped residue: #<PDB-RESIDUE GLY>\n",
      "popped residue: #<PDB-RESIDUE ILE>\n",
      "popped residue: #<PDB-RESIDUE LEU>\n",
      "popped residue: #<PDB-RESIDUE ARG>\n",
      "popped residue: #<PDB-RESIDUE ASN>\n",
      "popped residue: #<PDB-RESIDUE ALA>\n",
      "popped residue: #<PDB-RESIDUE LYS>\n",
      "popped residue: #<PDB-RESIDUE LEU>\n",
      "popped residue: #<PDB-RESIDUE LYS>\n",
      "popped residue: #<PDB-RESIDUE PRO>\n",
      "popped residue: #<PDB-RESIDUE VAL>\n",
      "popped residue: #<PDB-RESIDUE TYR>\n",
      "popped residue: #<PDB-RESIDUE ASP>\n",
      "popped residue: #<PDB-RESIDUE SER>\n",
      "popped residue: #<PDB-RESIDUE LEU>\n",
      "popped residue: #<PDB-RESIDUE ASP>\n",
      "popped residue: #<PDB-RESIDUE ALA>\n",
      "popped residue: #<PDB-RESIDUE VAL>\n",
      "popped residue: #<PDB-RESIDUE ARG>\n",
      "popped residue: #<PDB-RESIDUE ARG>\n",
      "popped residue: #<PDB-RESIDUE ALA>\n",
      "popped residue: #<PDB-RESIDUE ALA>\n",
      "popped residue: #<PDB-RESIDUE ALA>\n",
      "popped residue: #<PDB-RESIDUE ILE>\n",
      "popped residue: #<PDB-RESIDUE ASN>\n",
      "popped residue: #<PDB-RESIDUE MET>\n",
      "popped residue: #<PDB-RESIDUE VAL>\n",
      "popped residue: #<PDB-RESIDUE PHE>\n",
      "popped residue: #<PDB-RESIDUE GLN>\n",
      "popped residue: #<PDB-RESIDUE MET>\n",
      "popped residue: #<PDB-RESIDUE GLY>\n",
      "popped residue: #<PDB-RESIDUE GLU>\n",
      "popped residue: #<PDB-RESIDUE THR>\n",
      "popped residue: #<PDB-RESIDUE GLY>\n",
      "popped residue: #<PDB-RESIDUE VAL>\n",
      "popped residue: #<PDB-RESIDUE ALA>\n",
      "popped residue: #<PDB-RESIDUE GLY>\n",
      "popped residue: #<PDB-RESIDUE PHE>\n",
      "popped residue: #<PDB-RESIDUE THR>\n",
      "popped residue: #<PDB-RESIDUE ASN>\n",
      "popped residue: #<PDB-RESIDUE SER>\n",
      "popped residue: #<PDB-RESIDUE LEU>\n",
      "popped residue: #<PDB-RESIDUE ARG>\n",
      "popped residue: #<PDB-RESIDUE MET>\n",
      "popped residue: #<PDB-RESIDUE LEU>\n",
      "popped residue: #<PDB-RESIDUE GLN>\n",
      "popped residue: #<PDB-RESIDUE GLN>\n",
      "popped residue: #<PDB-RESIDUE LYS>\n",
      "popped residue: #<PDB-RESIDUE ARG>\n",
      "popped residue: #<PDB-RESIDUE TRP>\n",
      "popped residue: #<PDB-RESIDUE ASP>\n",
      "popped residue: #<PDB-RESIDUE GLU>\n",
      "popped residue: #<PDB-RESIDUE ALA>\n",
      "popped residue: #<PDB-RESIDUE ALA>\n",
      "popped residue: #<PDB-RESIDUE VAL>\n",
      "popped residue: #<PDB-RESIDUE ASN>\n",
      "popped residue: #<PDB-RESIDUE LEU>\n",
      "popped residue: #<PDB-RESIDUE ALA>\n",
      "popped residue: #<PDB-RESIDUE LYS>\n",
      "popped residue: #<PDB-RESIDUE SER>\n",
      "popped residue: #<PDB-RESIDUE ARG>\n",
      "popped residue: #<PDB-RESIDUE TRP>\n",
      "popped residue: #<PDB-RESIDUE TYR>\n",
      "popped residue: #<PDB-RESIDUE ASN>\n",
      "popped residue: #<PDB-RESIDUE GLN>\n",
      "popped residue: #<PDB-RESIDUE THR>\n",
      "popped residue: #<PDB-RESIDUE PRO>\n",
      "popped residue: #<PDB-RESIDUE ASN>\n",
      "popped residue: #<PDB-RESIDUE ARG>\n",
      "popped residue: #<PDB-RESIDUE ALA>\n",
      "popped residue: #<PDB-RESIDUE LYS>\n",
      "popped residue: #<PDB-RESIDUE ARG>\n",
      "popped residue: #<PDB-RESIDUE VAL>\n",
      "popped residue: #<PDB-RESIDUE ILE>\n",
      "popped residue: #<PDB-RESIDUE THR>\n",
      "popped residue: #<PDB-RESIDUE THR>\n",
      "popped residue: #<PDB-RESIDUE PHE>\n",
      "popped residue: #<PDB-RESIDUE ARG>\n",
      "popped residue: #<PDB-RESIDUE THR>\n",
      "popped residue: #<PDB-RESIDUE GLY>\n",
      "popped residue: #<PDB-RESIDUE THR>\n",
      "popped residue: #<PDB-RESIDUE TRP>\n",
      "popped residue: #<PDB-RESIDUE ASP>\n",
      "popped residue: #<PDB-RESIDUE ALA>\n",
      "popped residue: #<PDB-RESIDUE TYR>\n",
      "popped residue: #<PDB-RESIDUE LYS>\n",
      "Built 0 missing hydrogens\n"
     ]
    },
    {
     "data": {
      "text/plain": [
       "*PROTEIN*"
      ]
     },
     "execution_count": 3,
     "metadata": {},
     "output_type": "execute_result"
    }
   ],
   "source": [
    "(:= *protein* (load-pdb \"181L_mod_H_added.pdb\"))"
   ]
  },
  {
   "cell_type": "code",
   "execution_count": 4,
   "metadata": {},
   "outputs": [
    {
     "data": {
      "application/vnd.jupyter.widget-view+json": {
       "model_id": "9A9F78DE-7AAE-46A6-B9BE-670A9DDADDED",
       "version_major": 2,
       "version_minor": 0
      },
      "text/plain": [
       "#<NGLV:NGLWIDGET>"
      ]
     },
     "execution_count": 4,
     "metadata": {},
     "output_type": "execute_result"
    }
   ],
   "source": [
    "(show *protein*)"
   ]
  },
  {
   "cell_type": "code",
   "execution_count": 5,
   "metadata": {},
   "outputs": [
    {
     "data": {
      "text/plain": [
       "NIL"
      ]
     },
     "execution_count": 5,
     "metadata": {},
     "output_type": "execute_result"
    }
   ],
   "source": [
    "(simple-build-unbuilt-atoms *protein*)"
   ]
  },
  {
   "cell_type": "code",
   "execution_count": 6,
   "metadata": {},
   "outputs": [
    {
     "data": {
      "text/plain": [
       "T"
      ]
     },
     "execution_count": 6,
     "metadata": {},
     "output_type": "execute_result"
    }
   ],
   "source": [
    "(leap.topology:save-amber-parm-format *protein* \"lyz-cando_H_added.parm7\" \"lyz-cando_H_added.rst7\")"
   ]
  },
  {
   "cell_type": "code",
   "execution_count": 7,
   "metadata": {},
   "outputs": [
    {
     "data": {
      "application/vnd.jupyter.widget-view+json": {
       "model_id": "D154A0E7-9CF7-4D24-86D8-CC718998B0EA",
       "version_major": 2,
       "version_minor": 0
      },
      "text/plain": [
       "#<NGLV:NGLWIDGET>"
      ]
     },
     "execution_count": 7,
     "metadata": {},
     "output_type": "execute_result"
    }
   ],
   "source": [
    "(load-off \"tip3pfbox.off\")\n",
    "(show ~tip3pfbox)"
   ]
  },
  {
   "cell_type": "code",
   "execution_count": 10,
   "metadata": {},
   "outputs": [
    {
     "data": {
      "text/plain": [
       "NIL"
      ]
     },
     "execution_count": 10,
     "metadata": {},
     "output_type": "execute_result"
    }
   ],
   "source": []
  },
  {
   "cell_type": "code",
   "execution_count": 8,
   "metadata": {},
   "outputs": [
    {
     "data": {
      "text/plain": [
       "*SOLVENT*"
      ]
     },
     "execution_count": 8,
     "metadata": {},
     "output_type": "execute_result"
    }
   ],
   "source": [
    "(defparameter *solvent* ~tip3pfbox)"
   ]
  },
  {
   "cell_type": "code",
   "execution_count": 9,
   "metadata": {},
   "outputs": [
    {
     "name": "stdout",
     "output_type": "stream",
     "text": [
      "Total bounding box for atom centers:  60.94394105499784d0 65.2317021887067d0 73.34017914533615d0\n"
     ]
    },
    {
     "data": {
      "text/plain": [
       "0.75"
      ]
     },
     "execution_count": 9,
     "metadata": {},
     "output_type": "execute_result"
    }
   ],
   "source": [
    "(leap.solvate::tool-solvate-and-shell *protein* *solvent* '(12.0 12.0 12.0)) :closeness 0.75"
   ]
  },
  {
   "cell_type": "code",
   "execution_count": 10,
   "metadata": {},
   "outputs": [
    {
     "data": {
      "application/vnd.jupyter.widget-view+json": {
       "model_id": "4078F9DD-BD2D-4657-9A6F-0B89249810B0",
       "version_major": 2,
       "version_minor": 0
      },
      "text/plain": [
       "#<NGLV:NGLWIDGET>"
      ]
     },
     "execution_count": 10,
     "metadata": {},
     "output_type": "execute_result"
    }
   ],
   "source": [
    "(show *protein*)"
   ]
  },
  {
   "cell_type": "code",
   "execution_count": 11,
   "metadata": {},
   "outputs": [
    {
     "data": {
      "text/plain": [
       "T"
      ]
     },
     "execution_count": 11,
     "metadata": {},
     "output_type": "execute_result"
    }
   ],
   "source": [
    "(leap.topology:save-amber-parm-format *protein* \"solvated_lyz-cando.parm7\" \"solvated_lyz-cando.rst7\")"
   ]
  },
  {
   "cell_type": "code",
   "execution_count": null,
   "metadata": {},
   "outputs": [],
   "source": []
  }
 ],
 "metadata": {
  "kernelspec": {
   "display_name": "cando",
   "language": "lisp",
   "name": "cando"
  },
  "language_info": {
   "codemirror_mode": "text/x-common-lisp",
   "file_extension": ".lisp",
   "mimetype": "text/x-common-lisp",
   "name": "common-lisp",
   "pygments_lexer": "common-lisp",
   "version": "X3J13"
  }
 },
 "nbformat": 4,
 "nbformat_minor": 2
}
