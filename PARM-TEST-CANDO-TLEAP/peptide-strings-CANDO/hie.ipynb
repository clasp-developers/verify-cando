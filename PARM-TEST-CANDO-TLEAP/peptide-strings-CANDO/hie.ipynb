{
 "cells": [
  {
   "cell_type": "code",
   "execution_count": 1,
   "metadata": {},
   "outputs": [
    {
     "data": {
      "text/plain": [
       "(#P\"/Users/shiho/Development/amber18/dat/antechamber/\"\n",
       " #P\"/Users/shiho/Development/amber18/dat/leap/cmd/\"\n",
       " #P\"/Users/shiho/Development/amber18/dat/leap/parm/\"\n",
       " #P\"/Users/shiho/Development/amber18/dat/leap/lib/\"\n",
       " #P\"/Users/shiho/Development/amber18/dat/leap/prep/\")"
      ]
     },
     "execution_count": 1,
     "metadata": {},
     "output_type": "execute_result"
    }
   ],
   "source": [
    "(leap.core:clear-path)\n",
    "(leap.core:add-path \"amber:dat;leap;prep;\")\n",
    "(leap.core:add-path \"amber:dat;leap;lib;\")\n",
    "(leap.core:add-path \"amber:dat;leap;parm;\")\n",
    "(leap.core:add-path \"amber:dat;leap;cmd;\")\n",
    "(leap.core:add-path \"amber:dat;antechamber;\")"
   ]
  },
  {
   "cell_type": "code",
   "execution_count": 6,
   "metadata": {},
   "outputs": [
    {
     "name": "stderr",
     "output_type": "stream",
     "text": [
      "\n",
      ";; Swank started at port: 4005.\n"
     ]
    },
    {
     "data": {
      "text/plain": [
       "T"
      ]
     },
     "execution_count": 6,
     "metadata": {},
     "output_type": "execute_result"
    }
   ],
   "source": [
    "(start-swank)"
   ]
  },
  {
   "cell_type": "code",
   "execution_count": 2,
   "metadata": {},
   "outputs": [
    {
     "name": "stderr",
     "output_type": "stream",
     "text": [
      "\n",
      "add-atom-types doesn't do anything\n",
      "\n",
      "Warning!  Skipping 10-12 hbond\n",
      "\n",
      "\n",
      "Warning!  Skipping force field atom equivalences\n",
      "\n"
     ]
    },
    {
     "data": {
      "text/plain": [
       "*FF*"
      ]
     },
     "execution_count": 2,
     "metadata": {},
     "output_type": "execute_result"
    }
   ],
   "source": [
    "(leap.core:clear-force-field)\n",
    "(load-atom-type-rules \"ATOMTYPE_AMBER.DEF\")\n",
    "(source #P\"leaprc.protein.ff14SB\")\n",
    "(:= *ff* (leap.core::merged-force-field))"
   ]
  },
  {
   "cell_type": "code",
   "execution_count": 3,
   "metadata": {},
   "outputs": [
    {
     "data": {
      "text/plain": [
       "*HIE*"
      ]
     },
     "execution_count": 3,
     "metadata": {},
     "output_type": "execute_result"
    }
   ],
   "source": [
    "(:= *hie* (load-mol2 \"four-leap.mol2\"))"
   ]
  },
  {
   "cell_type": "code",
   "execution_count": 4,
   "metadata": {},
   "outputs": [
    {
     "data": {
      "application/vnd.jupyter.widget-view+json": {
       "model_id": "482DB896-391D-49BB-A5D9-D566E484BFD0",
       "version_major": 2,
       "version_minor": 0
      },
      "text/plain": [
       "#<NGLV:NGLWIDGET>"
      ]
     },
     "execution_count": 4,
     "metadata": {},
     "output_type": "execute_result"
    }
   ],
   "source": [
    "(show *hie*)"
   ]
  },
  {
   "cell_type": "code",
   "execution_count": 5,
   "metadata": {},
   "outputs": [
    {
     "name": "stdout",
     "output_type": "stream",
     "text": [
      "Constructing energy function\n",
      "Writing to /Users/shiho/Development/verify-cando/peptide-strings-CANDO/HIE_cando1.top\n",
      "Starting prepare-amber-energy-dihedral\n",
      "Ordering i1,i2,i3,i4 prepare-amber-energy-dihedral\n",
      "1-4 interactions prepare-amber-energy-dihedral\n",
      "Counting w and w/o water prepare-amber-energy-dihedral\n",
      "Extracting prepare-amber-energy-dihedral\n",
      "Saving     [*****************************************] ETC: --"
     ]
    },
    {
     "data": {
      "text/plain": [
       "T"
      ]
     },
     "execution_count": 5,
     "metadata": {},
     "output_type": "execute_result"
    }
   ],
   "source": [
    "(leap.topology:save-amber-parm-format *hie* \"HIE_cando1.top\" \"HIE_cando1.crd\")"
   ]
  },
  {
   "cell_type": "code",
   "execution_count": 6,
   "metadata": {},
   "outputs": [
    {
     "data": {
      "application/vnd.jupyter.widget-view+json": {
       "model_id": "A0780956-25AD-4BA7-81C7-7E583E562313",
       "version_major": 2,
       "version_minor": 0
      },
      "text/plain": [
       "#<NGLV:NGLWIDGET>"
      ]
     },
     "execution_count": 6,
     "metadata": {},
     "output_type": "execute_result"
    }
   ],
   "source": [
    "(load-off \"tip3pfbox.off\")\n",
    "(show ~tip3pfbox)"
   ]
  },
  {
   "cell_type": "code",
   "execution_count": 7,
   "metadata": {},
   "outputs": [
    {
     "data": {
      "text/plain": [
       "*SOLVENT*"
      ]
     },
     "execution_count": 7,
     "metadata": {},
     "output_type": "execute_result"
    }
   ],
   "source": [
    "(defparameter *solvent* ~tip3pfbox)"
   ]
  },
  {
   "cell_type": "code",
   "execution_count": 8,
   "metadata": {},
   "outputs": [
    {
     "name": "stdout",
     "output_type": "stream",
     "text": [
      "Total bounding box for atom centers:   28.33  27.65  23.79\n",
      "There are 1728 solvent molecules and 29 solute atoms\n",
      "Completed  [**************************************************] ETC: --"
     ]
    },
    {
     "data": {
      "text/plain": [
       "NIL"
      ]
     },
     "execution_count": 8,
     "metadata": {},
     "output_type": "execute_result"
    }
   ],
   "source": [
    "(leap.solvate::tool-solvate-and-shell *hie* *solvent* '(10.0 10.0 10.0) :closeness 0.75)"
   ]
  },
  {
   "cell_type": "code",
   "execution_count": 9,
   "metadata": {},
   "outputs": [
    {
     "name": "stdout",
     "output_type": "stream",
     "text": [
      "Constructing energy function\n",
      "Writing to /Users/shiho/Development/verify-cando/peptide-strings-CANDO/solvated_HIE_cando1.top\n",
      "Starting prepare-amber-energy-dihedral\n",
      "Ordering i1,i2,i3,i4 prepare-amber-energy-dihedral\n",
      "1-4 interactions prepare-amber-energy-dihedral\n",
      "Counting w and w/o water prepare-amber-energy-dihedral\n",
      "Extracting prepare-amber-energy-dihedral\n",
      "Saving     [******************************************] ETC: --"
     ]
    },
    {
     "data": {
      "text/plain": [
       "T"
      ]
     },
     "execution_count": 9,
     "metadata": {},
     "output_type": "execute_result"
    }
   ],
   "source": [
    "(leap.topology:save-amber-parm-format *hie* \"solvated_HIE_cando1.top\" \"solvated_HIE_cando1.crd\")"
   ]
  },
  {
   "cell_type": "code",
   "execution_count": 10,
   "metadata": {},
   "outputs": [
    {
     "name": "stdout",
     "output_type": "stream",
     "text": [
      "Saving matter to /Users/shiho/Development/verify-cando/peptide-strings-CANDO/solvated_hie.mol2\n"
     ]
    },
    {
     "data": {
      "text/plain": [
       "NIL"
      ]
     },
     "execution_count": 10,
     "metadata": {},
     "output_type": "execute_result"
    }
   ],
   "source": [
    "(save-mol2 *hie* \"solvated_hie.mol2\")"
   ]
  },
  {
   "cell_type": "markdown",
   "metadata": {},
   "source": [
    "Load the mol2 file in tleap and created topology and coordinate file \"solvated_HIE_leap1.top\" and \"solvated_HIE_leap1.crd\""
   ]
  },
  {
   "cell_type": "code",
   "execution_count": 9,
   "metadata": {},
   "outputs": [
    {
     "name": "stdout",
     "output_type": "stream",
     "text": [
      "Unknown flag %FLAG HBOND_ACOEF                                                               \n",
      "Unknown flag %FLAG HBOND_BCOEF                                                               \n",
      "Unknown flag %FLAG HBCUT                                                                     \n",
      "Unknown flag %FLAG TREE_CHAIN_CLASSIFICATION                                                 \n",
      "Unknown flag %FLAG JOIN_ARRAY                                                                \n",
      "Unknown flag %FLAG IROTAT                                                                    \n",
      "Unknown flag %FLAG SOLVENT_POINTERS                                                          \n",
      "Unknown flag %FLAG ATOMS_PER_MOLECULE                                                        \n",
      "Unknown flag %FLAG BOX_DIMENSIONS                                                            \n",
      "Unknown flag %FLAG RADIUS_SET                                                                \n",
      "Unknown flag %FLAG RADII                                                                     \n",
      "Unknown flag %FLAG SCREEN                                                                    \n"
     ]
    },
    {
     "data": {
      "text/plain": [
       "*EFS1*"
      ]
     },
     "execution_count": 9,
     "metadata": {},
     "output_type": "execute_result"
    }
   ],
   "source": [
    "(:= *efs1* (leap.topology::read-amber-parm-format \"solvated_HIE_cando1.top\"))"
   ]
  },
  {
   "cell_type": "code",
   "execution_count": 15,
   "metadata": {},
   "outputs": [
    {
     "name": "stdout",
     "output_type": "stream",
     "text": [
      "Unknown flag %FLAG HBOND_ACOEF                                                               \n",
      "Unknown flag %FLAG HBOND_BCOEF                                                               \n",
      "Unknown flag %FLAG HBCUT                                                                     \n",
      "Unknown flag %FLAG TREE_CHAIN_CLASSIFICATION                                                 \n",
      "Unknown flag %FLAG JOIN_ARRAY                                                                \n",
      "Unknown flag %FLAG IROTAT                                                                    \n",
      "Unknown flag %FLAG RADIUS_SET                                                                \n",
      "Unknown flag %FLAG RADII                                                                     \n",
      "Unknown flag %FLAG SCREEN                                                                    \n",
      "Unknown flag %FLAG IPOL                                                                      \n"
     ]
    },
    {
     "data": {
      "text/plain": [
       "*EFS2*"
      ]
     },
     "execution_count": 15,
     "metadata": {},
     "output_type": "execute_result"
    }
   ],
   "source": [
    "(:= *efs2* (leap.topology::read-amber-parm-format \"solvated_HIE_leap2.top\"))"
   ]
  },
  {
   "cell_type": "code",
   "execution_count": 16,
   "metadata": {},
   "outputs": [
    {
     "data": {
      "text/plain": [
       "NIL"
      ]
     },
     "execution_count": 16,
     "metadata": {},
     "output_type": "execute_result"
    }
   ],
   "source": [
    "(leap.topology::compare-energy-nonbond-parameters *efs1* *efs2*)"
   ]
  },
  {
   "cell_type": "code",
   "execution_count": null,
   "metadata": {},
   "outputs": [],
   "source": []
  }
 ],
 "metadata": {
  "kernelspec": {
   "display_name": "clasp",
   "language": "lisp",
   "name": "clasp"
  },
  "language_info": {
   "codemirror_mode": "text/x-common-lisp",
   "file_extension": ".lisp",
   "mimetype": "text/x-common-lisp",
   "name": "common-lisp",
   "pygments_lexer": "common-lisp",
   "version": "X3J13"
  }
 },
 "nbformat": 4,
 "nbformat_minor": 2
}
