{
 "cells": [
  {
   "cell_type": "code",
   "execution_count": 5,
   "metadata": {},
   "outputs": [
    {
     "data": {
      "text/plain": [
       "(#P\"/opt/amber18/dat/antechamber/\" #P\"/opt/amber18/dat/leap/cmd/\"\n",
       " #P\"/opt/amber18/dat/leap/parm/\" #P\"/opt/amber18/dat/leap/lib/\"\n",
       " #P\"/opt/amber18/dat/leap/prep/\" #P\"/opt/amber18/dat/antechamber/\"\n",
       " #P\"/opt/amber18/dat/leap/cmd/\" #P\"/opt/amber18/dat/leap/parm/\"\n",
       " #P\"/opt/amber18/dat/leap/lib/\" #P\"/opt/amber18/dat/leap/prep/\")"
      ]
     },
     "execution_count": 5,
     "metadata": {},
     "output_type": "execute_result"
    }
   ],
   "source": [
    "(leap.core:add-path \"amber:dat;leap;prep;\")\n",
    "(leap.core:add-path \"amber:dat;leap;lib;\")\n",
    "(leap.core:add-path \"amber:dat;leap;parm;\")\n",
    "(leap.core:add-path \"amber:dat;leap;cmd;\")\n",
    "(add-path \"amber:dat;antechamber;\")"
   ]
  },
  {
   "cell_type": "code",
   "execution_count": 6,
   "metadata": {},
   "outputs": [
    {
     "name": "stderr",
     "output_type": "stream",
     "text": [
      "\n",
      "add-atom-types doesn't do anything\n",
      "\n",
      "Warning!  Skipping 10-12 hbond\n",
      "\n",
      "\n",
      "Warning!  Skipping force field atom equivalences\n",
      "\n"
     ]
    },
    {
     "data": {
      "text/plain": [
       "T"
      ]
     },
     "execution_count": 6,
     "metadata": {},
     "output_type": "execute_result"
    }
   ],
   "source": [
    "(source \"leaprc.RNA.OL3\")"
   ]
  },
  {
   "cell_type": "code",
   "execution_count": 7,
   "metadata": {},
   "outputs": [
    {
     "data": {
      "text/plain": [
       "*RNATEST*"
      ]
     },
     "execution_count": 7,
     "metadata": {},
     "output_type": "execute_result"
    }
   ],
   "source": [
    "(:= *rnatest* (load-mol2 \"2ixy_mod_H_added_1.mol2\"))"
   ]
  },
  {
   "cell_type": "code",
   "execution_count": 8,
   "metadata": {},
   "outputs": [
    {
     "data": {
      "application/vnd.jupyter.widget-view+json": {
       "model_id": "F93E2E69-0258-46CE-94ED-3B723A1125CF",
       "version_major": 2,
       "version_minor": 0
      },
      "text/plain": [
       "#<NGLV:NGLWIDGET>"
      ]
     },
     "execution_count": 8,
     "metadata": {},
     "output_type": "execute_result"
    }
   ],
   "source": [
    "(show *rnatest*)"
   ]
  },
  {
   "cell_type": "code",
   "execution_count": 9,
   "metadata": {},
   "outputs": [
    {
     "name": "stdout",
     "output_type": "stream",
     "text": [
      "Constructing energy function\n",
      "Writing to /home/app/home/cando/test-rna-2ixy/2ixy-cando/2ixy-cando.parm7\n",
      "Starting prepare-amber-energy-dihedral\n",
      "Ordering i1,i2,i3,i4 prepare-amber-energy-dihedral\n",
      "1-4 interactions prepare-amber-energy-dihedral\n",
      "Counting w and w/o water prepare-amber-energy-dihedral\n",
      "Extracting prepare-amber-energy-dihedral\n",
      "Saving     [*****************************************] ETC: --\n"
     ]
    },
    {
     "data": {
      "text/plain": [
       "T"
      ]
     },
     "execution_count": 9,
     "metadata": {},
     "output_type": "execute_result"
    }
   ],
   "source": [
    "(leap.topology:save-amber-parm-format *rnatest* \"2ixy-cando.parm7\" \"2ixy-cando.rst7\")"
   ]
  },
  {
   "cell_type": "code",
   "execution_count": 10,
   "metadata": {},
   "outputs": [
    {
     "name": "stdout",
     "output_type": "stream",
     "text": [
      "Unknown flag %FLAG HBOND_ACOEF                                                               \n",
      "Unknown flag %FLAG HBOND_BCOEF                                                               \n",
      "Unknown flag %FLAG HBCUT                                                                     \n",
      "Unknown flag %FLAG TREE_CHAIN_CLASSIFICATION                                                 \n",
      "Unknown flag %FLAG JOIN_ARRAY                                                                \n",
      "Unknown flag %FLAG IROTAT                                                                    \n",
      "Unknown flag %FLAG RADIUS_SET                                                                \n",
      "Unknown flag %FLAG RADII                                                                     \n",
      "Unknown flag %FLAG SCREEN                                                                    \n",
      "Unknown flag %FLAG IPOL                                                                      \n"
     ]
    },
    {
     "data": {
      "text/plain": [
       "*SETONE*"
      ]
     },
     "execution_count": 10,
     "metadata": {},
     "output_type": "execute_result"
    }
   ],
   "source": [
    "(:= *setone* (leap.topology::read-amber-parm-format \"2ixy-amber.parm7\"))"
   ]
  },
  {
   "cell_type": "code",
   "execution_count": 11,
   "metadata": {},
   "outputs": [
    {
     "name": "stdout",
     "output_type": "stream",
     "text": [
      "Unknown flag %FLAG HBOND_ACOEF                                                               \n",
      "Unknown flag %FLAG HBOND_BCOEF                                                               \n",
      "Unknown flag %FLAG HBCUT                                                                     \n",
      "Unknown flag %FLAG TREE_CHAIN_CLASSIFICATION                                                 \n",
      "Unknown flag %FLAG JOIN_ARRAY                                                                \n",
      "Unknown flag %FLAG IROTAT                                                                    \n",
      "Unknown flag %FLAG RADIUS_SET                                                                \n",
      "Unknown flag %FLAG RADII                                                                     \n",
      "Unknown flag %FLAG SCREEN                                                                    \n"
     ]
    },
    {
     "data": {
      "text/plain": [
       "*SETTWO*"
      ]
     },
     "execution_count": 11,
     "metadata": {},
     "output_type": "execute_result"
    }
   ],
   "source": [
    "(:= *settwo* (leap.topology::read-amber-parm-format \"2ixy-cando.parm7\"))"
   ]
  },
  {
   "cell_type": "code",
   "execution_count": 12,
   "metadata": {},
   "outputs": [
    {
     "data": {
      "text/plain": [
       "NIL"
      ]
     },
     "execution_count": 12,
     "metadata": {},
     "output_type": "execute_result"
    }
   ],
   "source": [
    "(leap.topology::compare-energy-nonbond-parameters *setone* *settwo*)"
   ]
  },
  {
   "cell_type": "code",
   "execution_count": null,
   "metadata": {},
   "outputs": [],
   "source": []
  }
 ],
 "metadata": {
  "kernelspec": {
   "display_name": "cando",
   "language": "lisp",
   "name": "cando"
  },
  "language_info": {
   "codemirror_mode": "text/x-common-lisp",
   "file_extension": ".lisp",
   "mimetype": "text/x-common-lisp",
   "name": "common-lisp",
   "pygments_lexer": "common-lisp",
   "version": "X3J13"
  }
 },
 "nbformat": 4,
 "nbformat_minor": 2
}
