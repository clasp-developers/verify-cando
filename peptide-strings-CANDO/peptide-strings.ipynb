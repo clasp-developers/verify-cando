{
 "cells": [
  {
   "cell_type": "code",
   "execution_count": 1,
   "metadata": {},
   "outputs": [
    {
     "data": {
      "text/plain": [
       "(#P\"/Users/tuj24515/Development/amber18/dat/antechamber/\"\n",
       " #P\"/Users/tuj24515/Development/amber18/dat/leap/cmd/\"\n",
       " #P\"/Users/tuj24515/Development/amber18/dat/leap/parm/\"\n",
       " #P\"/Users/tuj24515/Development/amber18/dat/leap/lib/\"\n",
       " #P\"/Users/tuj24515/Development/amber18/dat/leap/prep/\")"
      ]
     },
     "execution_count": 1,
     "metadata": {},
     "output_type": "execute_result"
    }
   ],
   "source": [
    "(leap.core:clear-path)\n",
    "(leap.core:add-path \"amber:dat;leap;prep;\")\n",
    "(leap.core:add-path \"amber:dat;leap;lib;\")\n",
    "(leap.core:add-path \"amber:dat;leap;parm;\")\n",
    "(leap.core:add-path \"amber:dat;leap;cmd;\")\n",
    "(add-path \"~/Development/amber18/dat/antechamber/\")"
   ]
  },
  {
   "cell_type": "code",
   "execution_count": 2,
   "metadata": {},
   "outputs": [
    {
     "name": "stderr",
     "output_type": "stream",
     "text": [
      ";; Swank started at port: 4005.\n"
     ]
    },
    {
     "data": {
      "text/plain": [
       "T"
      ]
     },
     "execution_count": 2,
     "metadata": {},
     "output_type": "execute_result"
    }
   ],
   "source": [
    "(start-swank)"
   ]
  },
  {
   "cell_type": "code",
   "execution_count": 3,
   "metadata": {},
   "outputs": [
    {
     "data": {
      "text/plain": [
       "NIL"
      ]
     },
     "execution_count": 3,
     "metadata": {},
     "output_type": "execute_result"
    }
   ],
   "source": [
    "(leap.core:clear-force-field)"
   ]
  },
  {
   "cell_type": "code",
   "execution_count": 4,
   "metadata": {},
   "outputs": [
    {
     "data": {
      "text/plain": [
       "(#<FORCE-FIELD ATOMTYPE_AMBER.DEF>)"
      ]
     },
     "execution_count": 4,
     "metadata": {},
     "output_type": "execute_result"
    }
   ],
   "source": [
    "(load-atom-type-rules \"ATOMTYPE_AMBER.DEF\")"
   ]
  },
  {
   "cell_type": "code",
   "execution_count": 5,
   "metadata": {},
   "outputs": [
    {
     "name": "stderr",
     "output_type": "stream",
     "text": [
      "SIMPLE-WARNING: \n",
      "add-atom-types doesn't do anything\n",
      "SIMPLE-WARNING: \n",
      "Warning!  Skipping 10-12 hbond\n",
      "SIMPLE-WARNING: \n",
      "Warning!  Skipping force field atom equivalences\n"
     ]
    },
    {
     "data": {
      "text/plain": [
       "T"
      ]
     },
     "execution_count": 5,
     "metadata": {},
     "output_type": "execute_result"
    }
   ],
   "source": [
    "(source #P\"leaprc.protein.ff14SB\")"
   ]
  },
  {
   "cell_type": "code",
   "execution_count": 6,
   "metadata": {},
   "outputs": [
    {
     "data": {
      "text/plain": [
       "*FF*"
      ]
     },
     "execution_count": 6,
     "metadata": {},
     "output_type": "execute_result"
    }
   ],
   "source": [
    "(:= *ff* (leap.core::merged-force-field))"
   ]
  },
  {
   "cell_type": "code",
   "execution_count": 7,
   "metadata": {},
   "outputs": [
    {
     "data": {
      "text/plain": [
       "*FOUR1-LEAP*"
      ]
     },
     "execution_count": 7,
     "metadata": {},
     "output_type": "execute_result"
    }
   ],
   "source": [
    "(:= *four1-leap* (load-mol2 \"four-leap.mol2\"))"
   ]
  },
  {
   "cell_type": "code",
   "execution_count": 8,
   "metadata": {},
   "outputs": [
    {
     "name": "stdout",
     "output_type": "stream",
     "text": [
      "popped residue: #<PDB-RESIDUE ACE>\n",
      "popped residue: #<PDB-RESIDUE HIE>\n",
      "popped residue: #<PDB-RESIDUE NME>\n",
      "Built 0 missing hydrogens\n"
     ]
    },
    {
     "data": {
      "text/plain": [
       "*FOUR1-LEAP*"
      ]
     },
     "execution_count": 8,
     "metadata": {},
     "output_type": "execute_result"
    }
   ],
   "source": [
    "(:= *four1-leap* (load-pdb \"four-leap.pdb\"))"
   ]
  },
  {
   "cell_type": "code",
   "execution_count": 8,
   "metadata": {},
   "outputs": [
    {
     "data": {
      "application/vnd.jupyter.widget-view+json": {
       "model_id": "4F44C0DC-6103-4953-BDD5-3047FC778DCD",
       "version_major": 2,
       "version_minor": 0
      },
      "text/html": [
       "<p>Failed to display Jupyter Widget of type <code>{widget_type}</code>.</p>\n",
       "<p>\n",
       "  If you're reading this message in the Jupyter Notebook or JupyterLab Notebook, it may mean\n",
       "  that the widgets JavaScript is still loading. If this message persists, it\n",
       "  likely means that the widgets JavaScript library is either not installed or\n",
       "  not enabled. See the <a href=\"https://ipywidgets.readthedocs.io/en/stable/user_install.html\">Jupyter\n",
       "  Widgets Documentation</a> for setup instructions.\n",
       "</p>\n",
       "<p>\n",
       "  If you're reading this message in another frontend (for example, a static\n",
       "  rendering on GitHub or <a href=\"https://nbviewer.jupyter.org/\">NBViewer</a>),\n",
       "  it may mean that your frontend doesn't currently support widgets.\n",
       "</p>\n"
      ],
      "text/plain": [
       "A Jupyter Widget"
      ]
     },
     "execution_count": 8,
     "metadata": {},
     "output_type": "execute_result"
    }
   ],
   "source": [
    "(show *four1-leap*)"
   ]
  },
  {
   "cell_type": "code",
   "execution_count": 10,
   "metadata": {},
   "outputs": [
    {
     "data": {
      "text/plain": [
       "T"
      ]
     },
     "execution_count": 10,
     "metadata": {},
     "output_type": "execute_result"
    }
   ],
   "source": [
    "(leap.topology:save-amber-parm-format *four1-leap* \"four-leap1.top\" \"four-leap1.crd\")"
   ]
  },
  {
   "cell_type": "code",
   "execution_count": 16,
   "metadata": {},
   "outputs": [
    {
     "name": "stdout",
     "output_type": "stream",
     "text": [
      "popped residue: #<PDB-RESIDUE ACE>\n",
      "popped residue: #<PDB-RESIDUE MET>\n",
      "popped residue: #<PDB-RESIDUE ASN>\n",
      "popped residue: #<PDB-RESIDUE ILE>\n",
      "popped residue: #<PDB-RESIDUE PHE>\n",
      "popped residue: #<PDB-RESIDUE GLU>\n",
      "popped residue: #<PDB-RESIDUE MET>\n",
      "popped residue: #<PDB-RESIDUE LEU>\n",
      "popped residue: #<PDB-RESIDUE ARG>\n",
      "popped residue: #<PDB-RESIDUE ILE>\n",
      "popped residue: #<PDB-RESIDUE ASP>\n",
      "popped residue: #<PDB-RESIDUE NME>\n",
      "Built 0 missing hydrogens\n"
     ]
    },
    {
     "data": {
      "text/plain": [
       "*ONE*"
      ]
     },
     "execution_count": 16,
     "metadata": {},
     "output_type": "execute_result"
    }
   ],
   "source": [
    "(:= *one* (load-pdb \"one.pdb\"))"
   ]
  },
  {
   "cell_type": "code",
   "execution_count": 17,
   "metadata": {},
   "outputs": [
    {
     "name": "stdout",
     "output_type": "stream",
     "text": [
      "type HC name H1\n",
      " type CT name CH3\n",
      " type HC name H2\n",
      " type HC name H3\n",
      " type C name C\n",
      " type O name O\n",
      " type N name N\n",
      " type H name H\n",
      " type CX name CA\n",
      " type H1 name HA\n",
      " type 2C name CB\n",
      " type HC name HB2\n",
      " type HC name HB3\n",
      " type 2C name CG\n",
      " type H1 name HG2\n",
      " type H1 name HG3\n",
      " type S name SD\n",
      " type CT name CE\n",
      " type H1 name HE1\n",
      " type H1 name HE2\n",
      " type H1 name HE3\n",
      " type C name C\n",
      " type O name O\n",
      " type N name N\n",
      " type H name H\n",
      " type CX name CA\n",
      " type H1 name HA\n",
      " type 2C name CB\n",
      " type HC name HB2\n",
      " type HC name HB3\n",
      " type C name CG\n",
      " type O name OD1\n",
      " type N name ND2\n",
      " type H name HD21\n",
      " type H name HD22\n",
      " type C name C\n",
      " type O name O\n",
      " type N name N\n",
      " type H name H\n",
      " type CX name CA\n",
      " type H1 name HA\n",
      " type 3C name CB\n",
      " type HC name HB\n",
      " type CT name CG2\n",
      " type HC name HG21\n",
      " type HC name HG22\n",
      " type HC name HG23\n",
      " type 2C name CG1\n",
      " type HC name HG12\n",
      " type HC name HG13\n",
      " type CT name CD1\n",
      " type HC name HD11\n",
      " type HC name HD12\n",
      " type HC name HD13\n",
      " type C name C\n",
      " type O name O\n",
      " type N name N\n",
      " type H name H\n",
      " type CX name CA\n",
      " type H1 name HA\n",
      " type CT name CB\n",
      " type HC name HB2\n",
      " type HC name HB3\n",
      " type CA name CG\n",
      " type CA name CD1\n",
      " type HA name HD1\n",
      " type CA name CE1\n",
      " type HA name HE1\n",
      " type CA name CZ\n",
      " type HA name HZ\n",
      " type CA name CE2\n",
      " type HA name HE2\n",
      " type CA name CD2\n",
      " type HA name HD2\n",
      " type C name C\n",
      " type O name O\n",
      " type N name N\n",
      " type H name H\n",
      " type CX name CA\n",
      " type H1 name HA\n",
      " type 2C name CB\n",
      " type HC name HB2\n",
      " type HC name HB3\n",
      " type 2C name CG\n",
      " type HC name HG2\n",
      " type HC name HG3\n",
      " type CO name CD\n",
      " type O2 name OE1\n",
      " type O2 name OE2\n",
      " type C name C\n",
      " type O name O\n",
      " type N name N\n",
      " type H name H\n",
      " type CX name CA\n",
      " type H1 name HA\n",
      " type 2C name CB\n",
      " type HC name HB2\n",
      " type HC name HB3\n",
      " type 2C name CG\n",
      " type H1 name HG2\n",
      " type H1 name HG3\n",
      " type S name SD\n",
      " type CT name CE\n",
      " type H1 name HE1\n",
      " type H1 name HE2\n",
      " type H1 name HE3\n",
      " type C name C\n",
      " type O name O\n",
      " type N name N\n",
      " type H name H\n",
      " type CX name CA\n",
      " type H1 name HA\n",
      " type 2C name CB\n",
      " type HC name HB2\n",
      " type HC name HB3\n",
      " type 3C name CG\n",
      " type HC name HG\n",
      " type CT name CD1\n",
      " type HC name HD11\n",
      " type HC name HD12\n",
      " type HC name HD13\n",
      " type CT name CD2\n",
      " type HC name HD21\n",
      " type HC name HD22\n",
      " type HC name HD23\n",
      " type C name C\n",
      " type O name O\n",
      " type N name N\n",
      " type H name H\n",
      " type CX name CA\n",
      " type H1 name HA\n",
      " type C8 name CB\n",
      " type HC name HB2\n",
      " type HC name HB3\n",
      " type C8 name CG\n",
      " type HC name HG2\n",
      " type HC name HG3\n",
      " type C8 name CD\n",
      " type H1 name HD2\n",
      " type H1 name HD3\n",
      " type N2 name NE\n",
      " type H name HE\n",
      " type CA name CZ\n",
      " type N2 name NH1\n",
      " type H name HH11\n",
      " type H name HH12\n",
      " type N2 name NH2\n",
      " type H name HH21\n",
      " type H name HH22\n",
      " type C name C\n",
      " type O name O\n",
      " type N name N\n",
      " type H name H\n",
      " type CX name CA\n",
      " type H1 name HA\n",
      " type 3C name CB\n",
      " type HC name HB\n",
      " type CT name CG2\n",
      " type HC name HG21\n",
      " type HC name HG22\n",
      " type HC name HG23\n",
      " type 2C name CG1\n",
      " type HC name HG12\n",
      " type HC name HG13\n",
      " type CT name CD1\n",
      " type HC name HD11\n",
      " type HC name HD12\n",
      " type HC name HD13\n",
      " type C name C\n",
      " type O name O\n",
      " type N name N\n",
      " type H name H\n",
      " type CX name CA\n",
      " type H1 name HA\n",
      " type 2C name CB\n",
      " type HC name HB2\n",
      " type HC name HB3\n",
      " type CO name CG\n",
      " type O2 name OD1\n",
      " type O2 name OD2\n",
      " type C name C\n",
      " type O name O\n",
      " type N name N\n",
      " type H name H\n",
      " type CT name CH3\n",
      " type H1 name HH31\n",
      " type H1 name HH32\n",
      " type H1 name HH33\n",
      " "
     ]
    },
    {
     "data": {
      "text/plain": [
       "NIL"
      ]
     },
     "execution_count": 17,
     "metadata": {},
     "output_type": "execute_result"
    }
   ],
   "source": [
    "(chem:map-atoms 'nil (lambda (a)  (format t \"type ~a name ~a~% \" (chem:get-type a) (chem:get-name a)))\n",
    "                             *one*)"
   ]
  },
  {
   "cell_type": "code",
   "execution_count": 18,
   "metadata": {},
   "outputs": [
    {
     "data": {
      "application/vnd.jupyter.widget-view+json": {
       "model_id": "BC6EABD0-3C55-42B9-AC73-370AA7E1E0C6",
       "version_major": 2,
       "version_minor": 0
      },
      "text/html": [
       "<p>Failed to display Jupyter Widget of type <code>{widget_type}</code>.</p>\n",
       "<p>\n",
       "  If you're reading this message in the Jupyter Notebook or JupyterLab Notebook, it may mean\n",
       "  that the widgets JavaScript is still loading. If this message persists, it\n",
       "  likely means that the widgets JavaScript library is either not installed or\n",
       "  not enabled. See the <a href=\"https://ipywidgets.readthedocs.io/en/stable/user_install.html\">Jupyter\n",
       "  Widgets Documentation</a> for setup instructions.\n",
       "</p>\n",
       "<p>\n",
       "  If you're reading this message in another frontend (for example, a static\n",
       "  rendering on GitHub or <a href=\"https://nbviewer.jupyter.org/\">NBViewer</a>),\n",
       "  it may mean that your frontend doesn't currently support widgets.\n",
       "</p>\n"
      ],
      "text/plain": [
       "A Jupyter Widget"
      ]
     },
     "execution_count": 18,
     "metadata": {},
     "output_type": "execute_result"
    }
   ],
   "source": [
    "(show *one*)"
   ]
  },
  {
   "cell_type": "code",
   "execution_count": 19,
   "metadata": {},
   "outputs": [
    {
     "data": {
      "text/plain": [
       "T"
      ]
     },
     "execution_count": 19,
     "metadata": {},
     "output_type": "execute_result"
    }
   ],
   "source": [
    "(leap.topology:save-amber-parm-format *one* \"one1.top\" \"one1.crd\")"
   ]
  },
  {
   "cell_type": "code",
   "execution_count": 20,
   "metadata": {},
   "outputs": [
    {
     "name": "stdout",
     "output_type": "stream",
     "text": [
      "popped residue: #<PDB-RESIDUE ACE>\n",
      "popped residue: #<PDB-RESIDUE GLU>\n",
      "popped residue: #<PDB-RESIDUE GLY>\n",
      "popped residue: #<PDB-RESIDUE LEU>\n",
      "popped residue: #<PDB-RESIDUE ARG>\n",
      "popped residue: #<PDB-RESIDUE LEU>\n",
      "popped residue: #<PDB-RESIDUE LYS>\n",
      "popped residue: #<PDB-RESIDUE ILE>\n",
      "popped residue: #<PDB-RESIDUE TYR>\n",
      "popped residue: #<PDB-RESIDUE LYS>\n",
      "popped residue: #<PDB-RESIDUE ASP>\n",
      "popped residue: #<PDB-RESIDUE NME>\n",
      "Built 0 missing hydrogens\n"
     ]
    },
    {
     "data": {
      "text/plain": [
       "*TWO*"
      ]
     },
     "execution_count": 20,
     "metadata": {},
     "output_type": "execute_result"
    }
   ],
   "source": [
    "(:= *two* (load-pdb \"two.pdb\"))"
   ]
  },
  {
   "cell_type": "code",
   "execution_count": 21,
   "metadata": {},
   "outputs": [
    {
     "data": {
      "text/plain": [
       "T"
      ]
     },
     "execution_count": 21,
     "metadata": {},
     "output_type": "execute_result"
    }
   ],
   "source": [
    "(leap.topology:save-amber-parm-format *two* \"two1.top\" \"two1.crd\")"
   ]
  },
  {
   "cell_type": "code",
   "execution_count": 22,
   "metadata": {},
   "outputs": [
    {
     "name": "stdout",
     "output_type": "stream",
     "text": [
      "popped residue: #<PDB-RESIDUE ACE>\n",
      "popped residue: #<PDB-RESIDUE THR>\n",
      "popped residue: #<PDB-RESIDUE GLU>\n",
      "popped residue: #<PDB-RESIDUE GLY>\n",
      "popped residue: #<PDB-RESIDUE TYR>\n",
      "popped residue: #<PDB-RESIDUE TYR>\n",
      "popped residue: #<PDB-RESIDUE THR>\n",
      "popped residue: #<PDB-RESIDUE ILE>\n",
      "popped residue: #<PDB-RESIDUE GLY>\n",
      "popped residue: #<PDB-RESIDUE ILE>\n",
      "popped residue: #<PDB-RESIDUE GLY>\n",
      "popped residue: #<PDB-RESIDUE NME>\n",
      "Built 0 missing hydrogens\n"
     ]
    },
    {
     "data": {
      "text/plain": [
       "*THREE*"
      ]
     },
     "execution_count": 22,
     "metadata": {},
     "output_type": "execute_result"
    }
   ],
   "source": [
    "(:= *three* (load-pdb \"three.pdb\"))"
   ]
  },
  {
   "cell_type": "code",
   "execution_count": 23,
   "metadata": {},
   "outputs": [
    {
     "data": {
      "text/plain": [
       "T"
      ]
     },
     "execution_count": 23,
     "metadata": {},
     "output_type": "execute_result"
    }
   ],
   "source": [
    "(leap.topology:save-amber-parm-format *three* \"three1.top\" \"three1.crd\")"
   ]
  },
  {
   "cell_type": "code",
   "execution_count": 24,
   "metadata": {},
   "outputs": [
    {
     "name": "stdout",
     "output_type": "stream",
     "text": [
      "popped residue: #<PDB-RESIDUE ACE>\n",
      "popped residue: #<PDB-RESIDUE HIE>\n",
      "popped residue: #<PDB-RESIDUE LEU>\n",
      "popped residue: #<PDB-RESIDUE LEU>\n",
      "popped residue: #<PDB-RESIDUE THR>\n",
      "popped residue: #<PDB-RESIDUE LYS>\n",
      "popped residue: #<PDB-RESIDUE SER>\n",
      "popped residue: #<PDB-RESIDUE PRO>\n",
      "popped residue: #<PDB-RESIDUE SER>\n",
      "popped residue: #<PDB-RESIDUE LEU>\n",
      "popped residue: #<PDB-RESIDUE ASN>\n",
      "popped residue: #<PDB-RESIDUE NME>\n",
      "Built 0 missing hydrogens\n"
     ]
    },
    {
     "data": {
      "text/plain": [
       "*FOUR*"
      ]
     },
     "execution_count": 24,
     "metadata": {},
     "output_type": "execute_result"
    }
   ],
   "source": [
    "(:= *four* (load-pdb \"four.pdb\"))"
   ]
  },
  {
   "cell_type": "code",
   "execution_count": 25,
   "metadata": {},
   "outputs": [
    {
     "data": {
      "application/vnd.jupyter.widget-view+json": {
       "model_id": "E6284F79-BBA3-4F48-B6ED-26E7EDB1492D",
       "version_major": 2,
       "version_minor": 0
      },
      "text/html": [
       "<p>Failed to display Jupyter Widget of type <code>{widget_type}</code>.</p>\n",
       "<p>\n",
       "  If you're reading this message in the Jupyter Notebook or JupyterLab Notebook, it may mean\n",
       "  that the widgets JavaScript is still loading. If this message persists, it\n",
       "  likely means that the widgets JavaScript library is either not installed or\n",
       "  not enabled. See the <a href=\"https://ipywidgets.readthedocs.io/en/stable/user_install.html\">Jupyter\n",
       "  Widgets Documentation</a> for setup instructions.\n",
       "</p>\n",
       "<p>\n",
       "  If you're reading this message in another frontend (for example, a static\n",
       "  rendering on GitHub or <a href=\"https://nbviewer.jupyter.org/\">NBViewer</a>),\n",
       "  it may mean that your frontend doesn't currently support widgets.\n",
       "</p>\n"
      ],
      "text/plain": [
       "A Jupyter Widget"
      ]
     },
     "execution_count": 25,
     "metadata": {},
     "output_type": "execute_result"
    }
   ],
   "source": [
    "(show *four*)"
   ]
  },
  {
   "cell_type": "code",
   "execution_count": 26,
   "metadata": {},
   "outputs": [
    {
     "data": {
      "text/plain": [
       "T"
      ]
     },
     "execution_count": 26,
     "metadata": {},
     "output_type": "execute_result"
    }
   ],
   "source": [
    "(leap.topology:save-amber-parm-format *four* \"four1.top\" \"four1.crd\")"
   ]
  },
  {
   "cell_type": "code",
   "execution_count": 27,
   "metadata": {},
   "outputs": [
    {
     "name": "stdout",
     "output_type": "stream",
     "text": [
      "popped residue: #<PDB-RESIDUE ACE>\n",
      "popped residue: #<PDB-RESIDUE ALA>\n",
      "popped residue: #<PDB-RESIDUE ALA>\n",
      "popped residue: #<PDB-RESIDUE LYS>\n",
      "popped residue: #<PDB-RESIDUE SER>\n",
      "popped residue: #<PDB-RESIDUE GLU>\n",
      "popped residue: #<PDB-RESIDUE LEU>\n",
      "popped residue: #<PDB-RESIDUE ASP>\n",
      "popped residue: #<PDB-RESIDUE LYS>\n",
      "popped residue: #<PDB-RESIDUE ALA>\n",
      "popped residue: #<PDB-RESIDUE ILE>\n",
      "popped residue: #<PDB-RESIDUE NME>\n",
      "Built 0 missing hydrogens\n"
     ]
    },
    {
     "data": {
      "text/plain": [
       "*FIVE*"
      ]
     },
     "execution_count": 27,
     "metadata": {},
     "output_type": "execute_result"
    }
   ],
   "source": [
    "(:= *five* (load-pdb \"five.pdb\"))"
   ]
  },
  {
   "cell_type": "code",
   "execution_count": 28,
   "metadata": {},
   "outputs": [
    {
     "data": {
      "text/plain": [
       "T"
      ]
     },
     "execution_count": 28,
     "metadata": {},
     "output_type": "execute_result"
    }
   ],
   "source": [
    "(leap.topology:save-amber-parm-format *five* \"five1.top\" \"five1.crd\")"
   ]
  },
  {
   "cell_type": "code",
   "execution_count": 29,
   "metadata": {},
   "outputs": [
    {
     "name": "stdout",
     "output_type": "stream",
     "text": [
      "popped residue: #<PDB-RESIDUE ACE>\n",
      "popped residue: #<PDB-RESIDUE GLY>\n",
      "popped residue: #<PDB-RESIDUE ARG>\n",
      "popped residue: #<PDB-RESIDUE ASN>\n",
      "popped residue: #<PDB-RESIDUE THR>\n",
      "popped residue: #<PDB-RESIDUE ASN>\n",
      "popped residue: #<PDB-RESIDUE GLY>\n",
      "popped residue: #<PDB-RESIDUE VAL>\n",
      "popped residue: #<PDB-RESIDUE ILE>\n",
      "popped residue: #<PDB-RESIDUE THR>\n",
      "popped residue: #<PDB-RESIDUE LYS>\n",
      "popped residue: #<PDB-RESIDUE NME>\n",
      "Built 0 missing hydrogens\n"
     ]
    },
    {
     "data": {
      "text/plain": [
       "*SIX*"
      ]
     },
     "execution_count": 29,
     "metadata": {},
     "output_type": "execute_result"
    }
   ],
   "source": [
    "(:= *six* (load-pdb \"six.pdb\"))"
   ]
  },
  {
   "cell_type": "code",
   "execution_count": 30,
   "metadata": {},
   "outputs": [
    {
     "data": {
      "text/plain": [
       "T"
      ]
     },
     "execution_count": 30,
     "metadata": {},
     "output_type": "execute_result"
    }
   ],
   "source": [
    "(leap.topology:save-amber-parm-format *six* \"six1.top\" \"six1.crd\")"
   ]
  },
  {
   "cell_type": "code",
   "execution_count": 31,
   "metadata": {},
   "outputs": [
    {
     "name": "stdout",
     "output_type": "stream",
     "text": [
      "popped residue: #<PDB-RESIDUE ACE>\n",
      "popped residue: #<PDB-RESIDUE ASP>\n",
      "popped residue: #<PDB-RESIDUE GLU>\n",
      "popped residue: #<PDB-RESIDUE ALA>\n",
      "popped residue: #<PDB-RESIDUE GLU>\n",
      "popped residue: #<PDB-RESIDUE LYS>\n",
      "popped residue: #<PDB-RESIDUE LEU>\n",
      "popped residue: #<PDB-RESIDUE PHE>\n",
      "popped residue: #<PDB-RESIDUE ASN>\n",
      "popped residue: #<PDB-RESIDUE GLN>\n",
      "popped residue: #<PDB-RESIDUE ASP>\n",
      "popped residue: #<PDB-RESIDUE NME>\n",
      "Built 0 missing hydrogens\n"
     ]
    },
    {
     "data": {
      "text/plain": [
       "T"
      ]
     },
     "execution_count": 31,
     "metadata": {},
     "output_type": "execute_result"
    }
   ],
   "source": [
    "(:= *seven* (load-pdb \"seven.pdb\"))\n",
    "(leap.topology:save-amber-parm-format *seven* \"seven1.top\" \"seven1.crd\")"
   ]
  },
  {
   "cell_type": "code",
   "execution_count": 32,
   "metadata": {},
   "outputs": [
    {
     "name": "stdout",
     "output_type": "stream",
     "text": [
      "popped residue: #<PDB-RESIDUE ACE>\n",
      "popped residue: #<PDB-RESIDUE VAL>\n",
      "popped residue: #<PDB-RESIDUE ASP>\n",
      "popped residue: #<PDB-RESIDUE ALA>\n",
      "popped residue: #<PDB-RESIDUE ALA>\n",
      "popped residue: #<PDB-RESIDUE VAL>\n",
      "popped residue: #<PDB-RESIDUE ARG>\n",
      "popped residue: #<PDB-RESIDUE GLU>\n",
      "popped residue: #<PDB-RESIDUE ILE>\n",
      "popped residue: #<PDB-RESIDUE LEU>\n",
      "popped residue: #<PDB-RESIDUE ARG>\n",
      "popped residue: #<PDB-RESIDUE NME>\n",
      "Built 0 missing hydrogens\n"
     ]
    },
    {
     "data": {
      "text/plain": [
       "T"
      ]
     },
     "execution_count": 32,
     "metadata": {},
     "output_type": "execute_result"
    }
   ],
   "source": [
    "(:= *eight* (load-pdb \"eight.pdb\"))\n",
    "(leap.topology:save-amber-parm-format *eight* \"eight1.top\" \"eight1.crd\")"
   ]
  },
  {
   "cell_type": "code",
   "execution_count": 33,
   "metadata": {},
   "outputs": [
    {
     "name": "stdout",
     "output_type": "stream",
     "text": [
      "popped residue: #<PDB-RESIDUE ACE>\n",
      "popped residue: #<PDB-RESIDUE ASN>\n",
      "popped residue: #<PDB-RESIDUE ALA>\n",
      "popped residue: #<PDB-RESIDUE LYS>\n",
      "popped residue: #<PDB-RESIDUE LEU>\n",
      "popped residue: #<PDB-RESIDUE LYS>\n",
      "popped residue: #<PDB-RESIDUE PRO>\n",
      "popped residue: #<PDB-RESIDUE VAL>\n",
      "popped residue: #<PDB-RESIDUE TYR>\n",
      "popped residue: #<PDB-RESIDUE ASP>\n",
      "popped residue: #<PDB-RESIDUE SER>\n",
      "popped residue: #<PDB-RESIDUE NME>\n",
      "Built 0 missing hydrogens\n"
     ]
    },
    {
     "data": {
      "text/plain": [
       "T"
      ]
     },
     "execution_count": 33,
     "metadata": {},
     "output_type": "execute_result"
    }
   ],
   "source": [
    "(:= *nine* (load-pdb \"nine.pdb\"))\n",
    "(leap.topology:save-amber-parm-format *nine* \"nine1.top\" \"nine1.crd\")"
   ]
  },
  {
   "cell_type": "code",
   "execution_count": 34,
   "metadata": {},
   "outputs": [
    {
     "name": "stdout",
     "output_type": "stream",
     "text": [
      "popped residue: #<PDB-RESIDUE ACE>\n",
      "popped residue: #<PDB-RESIDUE LEU>\n",
      "popped residue: #<PDB-RESIDUE ASP>\n",
      "popped residue: #<PDB-RESIDUE ALA>\n",
      "popped residue: #<PDB-RESIDUE VAL>\n",
      "popped residue: #<PDB-RESIDUE ARG>\n",
      "popped residue: #<PDB-RESIDUE ARG>\n",
      "popped residue: #<PDB-RESIDUE ALA>\n",
      "popped residue: #<PDB-RESIDUE ALA>\n",
      "popped residue: #<PDB-RESIDUE ALA>\n",
      "popped residue: #<PDB-RESIDUE ILE>\n",
      "popped residue: #<PDB-RESIDUE NME>\n",
      "Built 0 missing hydrogens\n"
     ]
    },
    {
     "data": {
      "text/plain": [
       "T"
      ]
     },
     "execution_count": 34,
     "metadata": {},
     "output_type": "execute_result"
    }
   ],
   "source": [
    "(:= *ten* (load-pdb \"ten.pdb\"))\n",
    "(leap.topology:save-amber-parm-format *ten* \"ten1.top\" \"ten1.crd\")"
   ]
  },
  {
   "cell_type": "code",
   "execution_count": 35,
   "metadata": {},
   "outputs": [
    {
     "name": "stdout",
     "output_type": "stream",
     "text": [
      "popped residue: #<PDB-RESIDUE ACE>\n",
      "popped residue: #<PDB-RESIDUE ASN>\n",
      "popped residue: #<PDB-RESIDUE MET>\n",
      "popped residue: #<PDB-RESIDUE VAL>\n",
      "popped residue: #<PDB-RESIDUE PHE>\n",
      "popped residue: #<PDB-RESIDUE GLN>\n",
      "popped residue: #<PDB-RESIDUE MET>\n",
      "popped residue: #<PDB-RESIDUE GLY>\n",
      "popped residue: #<PDB-RESIDUE GLU>\n",
      "popped residue: #<PDB-RESIDUE THR>\n",
      "popped residue: #<PDB-RESIDUE GLY>\n",
      "popped residue: #<PDB-RESIDUE NME>\n",
      "Built 0 missing hydrogens\n"
     ]
    },
    {
     "data": {
      "text/plain": [
       "T"
      ]
     },
     "execution_count": 35,
     "metadata": {},
     "output_type": "execute_result"
    }
   ],
   "source": [
    "(:= *eleven* (load-pdb \"eleven.pdb\"))\n",
    "(leap.topology:save-amber-parm-format *eleven* \"eleven1.top\" \"eleven1.crd\")"
   ]
  },
  {
   "cell_type": "code",
   "execution_count": 36,
   "metadata": {},
   "outputs": [
    {
     "name": "stdout",
     "output_type": "stream",
     "text": [
      "popped residue: #<PDB-RESIDUE ACE>\n",
      "popped residue: #<PDB-RESIDUE VAL>\n",
      "popped residue: #<PDB-RESIDUE ALA>\n",
      "popped residue: #<PDB-RESIDUE GLY>\n",
      "popped residue: #<PDB-RESIDUE PHE>\n",
      "popped residue: #<PDB-RESIDUE THR>\n",
      "popped residue: #<PDB-RESIDUE ASN>\n",
      "popped residue: #<PDB-RESIDUE SER>\n",
      "popped residue: #<PDB-RESIDUE LEU>\n",
      "popped residue: #<PDB-RESIDUE ARG>\n",
      "popped residue: #<PDB-RESIDUE MET>\n",
      "popped residue: #<PDB-RESIDUE NME>\n",
      "Built 0 missing hydrogens\n"
     ]
    },
    {
     "data": {
      "text/plain": [
       "T"
      ]
     },
     "execution_count": 36,
     "metadata": {},
     "output_type": "execute_result"
    }
   ],
   "source": [
    "(:= *twelve* (load-pdb \"twelve.pdb\"))\n",
    "(leap.topology:save-amber-parm-format *twelve* \"twelve1.top\" \"twelve1.crd\")"
   ]
  },
  {
   "cell_type": "code",
   "execution_count": 37,
   "metadata": {},
   "outputs": [
    {
     "name": "stdout",
     "output_type": "stream",
     "text": [
      "popped residue: #<PDB-RESIDUE ACE>\n",
      "popped residue: #<PDB-RESIDUE LEU>\n",
      "popped residue: #<PDB-RESIDUE GLN>\n",
      "popped residue: #<PDB-RESIDUE GLN>\n",
      "popped residue: #<PDB-RESIDUE LYS>\n",
      "popped residue: #<PDB-RESIDUE ARG>\n",
      "popped residue: #<PDB-RESIDUE TRP>\n",
      "popped residue: #<PDB-RESIDUE ASP>\n",
      "popped residue: #<PDB-RESIDUE GLU>\n",
      "popped residue: #<PDB-RESIDUE ALA>\n",
      "popped residue: #<PDB-RESIDUE ALA>\n",
      "popped residue: #<PDB-RESIDUE NME>\n",
      "Built 0 missing hydrogens\n"
     ]
    },
    {
     "data": {
      "text/plain": [
       "T"
      ]
     },
     "execution_count": 37,
     "metadata": {},
     "output_type": "execute_result"
    }
   ],
   "source": [
    "(:= *thirteen* (load-pdb \"thirteen.pdb\"))\n",
    "(leap.topology:save-amber-parm-format *thirteen* \"thirteen1.top\" \"thirteen1.crd\")"
   ]
  },
  {
   "cell_type": "code",
   "execution_count": 38,
   "metadata": {},
   "outputs": [
    {
     "name": "stdout",
     "output_type": "stream",
     "text": [
      "popped residue: #<PDB-RESIDUE ACE>\n",
      "popped residue: #<PDB-RESIDUE VAL>\n",
      "popped residue: #<PDB-RESIDUE ASN>\n",
      "popped residue: #<PDB-RESIDUE LEU>\n",
      "popped residue: #<PDB-RESIDUE ALA>\n",
      "popped residue: #<PDB-RESIDUE LYS>\n",
      "popped residue: #<PDB-RESIDUE SER>\n",
      "popped residue: #<PDB-RESIDUE ARG>\n",
      "popped residue: #<PDB-RESIDUE TRP>\n",
      "popped residue: #<PDB-RESIDUE TYR>\n",
      "popped residue: #<PDB-RESIDUE ASN>\n",
      "popped residue: #<PDB-RESIDUE NME>\n",
      "Built 0 missing hydrogens\n"
     ]
    },
    {
     "data": {
      "text/plain": [
       "T"
      ]
     },
     "execution_count": 38,
     "metadata": {},
     "output_type": "execute_result"
    }
   ],
   "source": [
    "(:= *fourteen* (load-pdb \"fourteen.pdb\"))\n",
    "(leap.topology:save-amber-parm-format *fourteen* \"fourteen1.top\" \"fourteen1.crd\")"
   ]
  },
  {
   "cell_type": "code",
   "execution_count": 39,
   "metadata": {},
   "outputs": [
    {
     "name": "stdout",
     "output_type": "stream",
     "text": [
      "popped residue: #<PDB-RESIDUE ACE>\n",
      "popped residue: #<PDB-RESIDUE GLN>\n",
      "popped residue: #<PDB-RESIDUE THR>\n",
      "popped residue: #<PDB-RESIDUE PRO>\n",
      "popped residue: #<PDB-RESIDUE ASN>\n",
      "popped residue: #<PDB-RESIDUE ARG>\n",
      "popped residue: #<PDB-RESIDUE ALA>\n",
      "popped residue: #<PDB-RESIDUE LYS>\n",
      "popped residue: #<PDB-RESIDUE ARG>\n",
      "popped residue: #<PDB-RESIDUE VAL>\n",
      "popped residue: #<PDB-RESIDUE ILE>\n",
      "popped residue: #<PDB-RESIDUE NME>\n",
      "Built 0 missing hydrogens\n"
     ]
    },
    {
     "data": {
      "text/plain": [
       "T"
      ]
     },
     "execution_count": 39,
     "metadata": {},
     "output_type": "execute_result"
    }
   ],
   "source": [
    "(:= *fifteen* (load-pdb \"fifteen.pdb\"))\n",
    "(leap.topology:save-amber-parm-format *fifteen* \"fifteen1.top\" \"fifteen1.crd\")"
   ]
  },
  {
   "cell_type": "code",
   "execution_count": null,
   "metadata": {
    "collapsed": true
   },
   "outputs": [],
   "source": [
    "(chem:atom-with)"
   ]
  }
 ],
 "metadata": {
  "kernelspec": {
   "display_name": "Cando-fast-start",
   "language": "lisp",
   "name": "lisp-fast"
  },
  "language_info": {
   "codemirror_mode": "text/x-common-lisp",
   "mimetype": "text/x-common-lisp",
   "name": "common-lisp",
   "pygments_lexer": "common-lisp",
   "version": "X3J13"
  }
 },
 "nbformat": 4,
 "nbformat_minor": 2
}
