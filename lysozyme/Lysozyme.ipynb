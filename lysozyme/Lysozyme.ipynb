{
 "cells": [
  {
   "cell_type": "code",
   "execution_count": 1,
   "metadata": {},
   "outputs": [
    {
     "name": "stderr",
     "output_type": "stream",
     "text": [
      "\n",
      ";; Swank started at port: 4005.\n"
     ]
    },
    {
     "data": {
      "text/plain": [
       "T"
      ]
     },
     "execution_count": 1,
     "metadata": {},
     "output_type": "execute_result"
    }
   ],
   "source": [
    "(start-swank)"
   ]
  },
  {
   "cell_type": "code",
   "execution_count": 1,
   "metadata": {},
   "outputs": [
    {
     "data": {
      "text/plain": [
       "(#P\"/Users/shiho/Development/amber18/dat/antechamber/\"\n",
       " #P\"/Users/shiho/Development/amber18/dat/leap/cmd/\"\n",
       " #P\"/Users/shiho/Development/amber18/dat/leap/parm/\"\n",
       " #P\"/Users/shiho/Development/amber18/dat/leap/lib/\"\n",
       " #P\"/Users/shiho/Development/amber18/dat/leap/prep/\")"
      ]
     },
     "execution_count": 1,
     "metadata": {},
     "output_type": "execute_result"
    }
   ],
   "source": [
    "(setf (logical-pathname-translations \"amber\")\n",
    "    (list (list \"**;*.*\" (concatenate 'string (ext:getenv \"AMBERHOME\") \"/**/*.*\"))))\n",
    "(leap.core:clear-path)\n",
    "(leap.core:add-path \"amber:dat;leap;prep;\")\n",
    "(leap.core:add-path \"amber:dat;leap;lib;\")\n",
    "(leap.core:add-path \"amber:dat;leap;parm;\")\n",
    "(leap.core:add-path \"amber:dat;leap;cmd;\")\n",
    "(add-path \"amber:dat;antechamber;\")"
   ]
  },
  {
   "cell_type": "code",
   "execution_count": 2,
   "metadata": {},
   "outputs": [
    {
     "name": "stderr",
     "output_type": "stream",
     "text": [
      "\n",
      "add-atom-types doesn't do anything\n",
      "\n",
      "Warning!  Skipping 10-12 hbond\n",
      "\n",
      "\n",
      "Warning!  Skipping force field atom equivalences\n",
      "\n"
     ]
    },
    {
     "data": {
      "text/plain": [
       "T"
      ]
     },
     "execution_count": 2,
     "metadata": {},
     "output_type": "execute_result"
    }
   ],
   "source": [
    "(source #P\"leaprc.protein.ff14SB\")"
   ]
  },
  {
   "cell_type": "code",
   "execution_count": 4,
   "metadata": {},
   "outputs": [
    {
     "name": "stdout",
     "output_type": "stream",
     "text": [
      "../../extensions/cando/src/chem/topology.cc:129 Topology_O::buildResidueForIsomer\n",
      "../../extensions/cando/src/chem/topology.cc:129 Topology_O::buildResidueForIsomer\n",
      "../../extensions/cando/src/chem/topology.cc:129 Topology_O::buildResidueForIsomer\n",
      "../../extensions/cando/src/chem/topology.cc:129 Topology_O::buildResidueForIsomer\n",
      "../../extensions/cando/src/chem/topology.cc:129 Topology_O::buildResidueForIsomer\n",
      "../../extensions/cando/src/chem/topology.cc:129 Topology_O::buildResidueForIsomer\n",
      "../../extensions/cando/src/chem/topology.cc:129 Topology_O::buildResidueForIsomer\n",
      "../../extensions/cando/src/chem/topology.cc:129 Topology_O::buildResidueForIsomer\n",
      "../../extensions/cando/src/chem/topology.cc:129 Topology_O::buildResidueForIsomer\n",
      "../../extensions/cando/src/chem/topology.cc:129 Topology_O::buildResidueForIsomer\n",
      "../../extensions/cando/src/chem/topology.cc:129 Topology_O::buildResidueForIsomer\n",
      "../../extensions/cando/src/chem/topology.cc:129 Topology_O::buildResidueForIsomer\n",
      "../../extensions/cando/src/chem/topology.cc:129 Topology_O::buildResidueForIsomer\n",
      "../../extensions/cando/src/chem/topology.cc:129 Topology_O::buildResidueForIsomer\n",
      "../../extensions/cando/src/chem/topology.cc:129 Topology_O::buildResidueForIsomer\n",
      "../../extensions/cando/src/chem/topology.cc:129 Topology_O::buildResidueForIsomer\n",
      "../../extensions/cando/src/chem/topology.cc:129 Topology_O::buildResidueForIsomer\n",
      "../../extensions/cando/src/chem/topology.cc:129 Topology_O::buildResidueForIsomer\n",
      "../../extensions/cando/src/chem/topology.cc:129 Topology_O::buildResidueForIsomer\n",
      "../../extensions/cando/src/chem/topology.cc:129 Topology_O::buildResidueForIsomer\n",
      "../../extensions/cando/src/chem/topology.cc:129 Topology_O::buildResidueForIsomer\n",
      "../../extensions/cando/src/chem/topology.cc:129 Topology_O::buildResidueForIsomer\n",
      "../../extensions/cando/src/chem/topology.cc:129 Topology_O::buildResidueForIsomer\n",
      "../../extensions/cando/src/chem/topology.cc:129 Topology_O::buildResidueForIsomer\n",
      "../../extensions/cando/src/chem/topology.cc:129 Topology_O::buildResidueForIsomer\n",
      "../../extensions/cando/src/chem/topology.cc:129 Topology_O::buildResidueForIsomer\n",
      "../../extensions/cando/src/chem/topology.cc:129 Topology_O::buildResidueForIsomer\n",
      "../../extensions/cando/src/chem/topology.cc:129 Topology_O::buildResidueForIsomer\n",
      "../../extensions/cando/src/chem/topology.cc:129 Topology_O::buildResidueForIsomer\n",
      "../../extensions/cando/src/chem/topology.cc:129 Topology_O::buildResidueForIsomer\n",
      "../../extensions/cando/src/chem/topology.cc:129 Topology_O::buildResidueForIsomer\n",
      "../../extensions/cando/src/chem/topology.cc:129 Topology_O::buildResidueForIsomer\n",
      "../../extensions/cando/src/chem/topology.cc:129 Topology_O::buildResidueForIsomer\n",
      "../../extensions/cando/src/chem/topology.cc:129 Topology_O::buildResidueForIsomer\n",
      "../../extensions/cando/src/chem/topology.cc:129 Topology_O::buildResidueForIsomer\n",
      "../../extensions/cando/src/chem/topology.cc:129 Topology_O::buildResidueForIsomer\n",
      "../../extensions/cando/src/chem/topology.cc:129 Topology_O::buildResidueForIsomer\n",
      "../../extensions/cando/src/chem/topology.cc:129 Topology_O::buildResidueForIsomer\n",
      "../../extensions/cando/src/chem/topology.cc:129 Topology_O::buildResidueForIsomer\n",
      "../../extensions/cando/src/chem/topology.cc:129 Topology_O::buildResidueForIsomer\n",
      "../../extensions/cando/src/chem/topology.cc:129 Topology_O::buildResidueForIsomer\n",
      "../../extensions/cando/src/chem/topology.cc:129 Topology_O::buildResidueForIsomer\n",
      "../../extensions/cando/src/chem/topology.cc:129 Topology_O::buildResidueForIsomer\n",
      "../../extensions/cando/src/chem/topology.cc:129 Topology_O::buildResidueForIsomer\n",
      "../../extensions/cando/src/chem/topology.cc:129 Topology_O::buildResidueForIsomer\n",
      "../../extensions/cando/src/chem/topology.cc:129 Topology_O::buildResidueForIsomer\n",
      "../../extensions/cando/src/chem/topology.cc:129 Topology_O::buildResidueForIsomer\n",
      "../../extensions/cando/src/chem/topology.cc:129 Topology_O::buildResidueForIsomer\n",
      "../../extensions/cando/src/chem/topology.cc:129 Topology_O::buildResidueForIsomer\n",
      "../../extensions/cando/src/chem/topology.cc:129 Topology_O::buildResidueForIsomer\n",
      "../../extensions/cando/src/chem/topology.cc:129 Topology_O::buildResidueForIsomer\n",
      "../../extensions/cando/src/chem/topology.cc:129 Topology_O::buildResidueForIsomer\n",
      "../../extensions/cando/src/chem/topology.cc:129 Topology_O::buildResidueForIsomer\n",
      "../../extensions/cando/src/chem/topology.cc:129 Topology_O::buildResidueForIsomer\n",
      "../../extensions/cando/src/chem/topology.cc:129 Topology_O::buildResidueForIsomer\n",
      "../../extensions/cando/src/chem/topology.cc:129 Topology_O::buildResidueForIsomer\n",
      "../../extensions/cando/src/chem/topology.cc:129 Topology_O::buildResidueForIsomer\n",
      "../../extensions/cando/src/chem/topology.cc:129 Topology_O::buildResidueForIsomer\n",
      "../../extensions/cando/src/chem/topology.cc:129 Topology_O::buildResidueForIsomer\n",
      "../../extensions/cando/src/chem/topology.cc:129 Topology_O::buildResidueForIsomer\n",
      "../../extensions/cando/src/chem/topology.cc:129 Topology_O::buildResidueForIsomer\n",
      "../../extensions/cando/src/chem/topology.cc:129 Topology_O::buildResidueForIsomer\n",
      "../../extensions/cando/src/chem/topology.cc:129 Topology_O::buildResidueForIsomer\n",
      "../../extensions/cando/src/chem/topology.cc:129 Topology_O::buildResidueForIsomer\n",
      "../../extensions/cando/src/chem/topology.cc:129 Topology_O::buildResidueForIsomer\n",
      "../../extensions/cando/src/chem/topology.cc:129 Topology_O::buildResidueForIsomer\n",
      "../../extensions/cando/src/chem/topology.cc:129 Topology_O::buildResidueForIsomer\n",
      "../../extensions/cando/src/chem/topology.cc:129 Topology_O::buildResidueForIsomer\n",
      "../../extensions/cando/src/chem/topology.cc:129 Topology_O::buildResidueForIsomer\n",
      "../../extensions/cando/src/chem/topology.cc:129 Topology_O::buildResidueForIsomer\n",
      "../../extensions/cando/src/chem/topology.cc:129 Topology_O::buildResidueForIsomer\n",
      "../../extensions/cando/src/chem/topology.cc:129 Topology_O::buildResidueForIsomer\n",
      "../../extensions/cando/src/chem/topology.cc:129 Topology_O::buildResidueForIsomer\n",
      "../../extensions/cando/src/chem/topology.cc:129 Topology_O::buildResidueForIsomer\n",
      "../../extensions/cando/src/chem/topology.cc:129 Topology_O::buildResidueForIsomer\n",
      "../../extensions/cando/src/chem/topology.cc:129 Topology_O::buildResidueForIsomer\n",
      "../../extensions/cando/src/chem/topology.cc:129 Topology_O::buildResidueForIsomer\n",
      "../../extensions/cando/src/chem/topology.cc:129 Topology_O::buildResidueForIsomer\n",
      "../../extensions/cando/src/chem/topology.cc:129 Topology_O::buildResidueForIsomer\n",
      "../../extensions/cando/src/chem/topology.cc:129 Topology_O::buildResidueForIsomer\n",
      "../../extensions/cando/src/chem/topology.cc:129 Topology_O::buildResidueForIsomer\n",
      "../../extensions/cando/src/chem/topology.cc:129 Topology_O::buildResidueForIsomer\n",
      "../../extensions/cando/src/chem/topology.cc:129 Topology_O::buildResidueForIsomer\n",
      "../../extensions/cando/src/chem/topology.cc:129 Topology_O::buildResidueForIsomer\n",
      "../../extensions/cando/src/chem/topology.cc:129 Topology_O::buildResidueForIsomer\n",
      "../../extensions/cando/src/chem/topology.cc:129 Topology_O::buildResidueForIsomer\n",
      "../../extensions/cando/src/chem/topology.cc:129 Topology_O::buildResidueForIsomer\n",
      "../../extensions/cando/src/chem/topology.cc:129 Topology_O::buildResidueForIsomer\n",
      "../../extensions/cando/src/chem/topology.cc:129 Topology_O::buildResidueForIsomer\n",
      "../../extensions/cando/src/chem/topology.cc:129 Topology_O::buildResidueForIsomer\n",
      "../../extensions/cando/src/chem/topology.cc:129 Topology_O::buildResidueForIsomer\n",
      "../../extensions/cando/src/chem/topology.cc:129 Topology_O::buildResidueForIsomer\n",
      "../../extensions/cando/src/chem/topology.cc:129 Topology_O::buildResidueForIsomer\n",
      "../../extensions/cando/src/chem/topology.cc:129 Topology_O::buildResidueForIsomer\n",
      "../../extensions/cando/src/chem/topology.cc:129 Topology_O::buildResidueForIsomer\n",
      "../../extensions/cando/src/chem/topology.cc:129 Topology_O::buildResidueForIsomer\n",
      "../../extensions/cando/src/chem/topology.cc:129 Topology_O::buildResidueForIsomer\n",
      "../../extensions/cando/src/chem/topology.cc:129 Topology_O::buildResidueForIsomer\n",
      "../../extensions/cando/src/chem/topology.cc:129 Topology_O::buildResidueForIsomer\n",
      "../../extensions/cando/src/chem/topology.cc:129 Topology_O::buildResidueForIsomer\n",
      "../../extensions/cando/src/chem/topology.cc:129 Topology_O::buildResidueForIsomer\n",
      "../../extensions/cando/src/chem/topology.cc:129 Topology_O::buildResidueForIsomer\n",
      "../../extensions/cando/src/chem/topology.cc:129 Topology_O::buildResidueForIsomer\n",
      "../../extensions/cando/src/chem/topology.cc:129 Topology_O::buildResidueForIsomer\n",
      "../../extensions/cando/src/chem/topology.cc:129 Topology_O::buildResidueForIsomer\n",
      "../../extensions/cando/src/chem/topology.cc:129 Topology_O::buildResidueForIsomer\n",
      "../../extensions/cando/src/chem/topology.cc:129 Topology_O::buildResidueForIsomer\n",
      "../../extensions/cando/src/chem/topology.cc:129 Topology_O::buildResidueForIsomer\n",
      "../../extensions/cando/src/chem/topology.cc:129 Topology_O::buildResidueForIsomer\n",
      "../../extensions/cando/src/chem/topology.cc:129 Topology_O::buildResidueForIsomer\n",
      "../../extensions/cando/src/chem/topology.cc:129 Topology_O::buildResidueForIsomer\n",
      "../../extensions/cando/src/chem/topology.cc:129 Topology_O::buildResidueForIsomer\n",
      "../../extensions/cando/src/chem/topology.cc:129 Topology_O::buildResidueForIsomer\n",
      "../../extensions/cando/src/chem/topology.cc:129 Topology_O::buildResidueForIsomer\n",
      "../../extensions/cando/src/chem/topology.cc:129 Topology_O::buildResidueForIsomer\n",
      "../../extensions/cando/src/chem/topology.cc:129 Topology_O::buildResidueForIsomer\n",
      "../../extensions/cando/src/chem/topology.cc:129 Topology_O::buildResidueForIsomer\n",
      "../../extensions/cando/src/chem/topology.cc:129 Topology_O::buildResidueForIsomer\n",
      "../../extensions/cando/src/chem/topology.cc:129 Topology_O::buildResidueForIsomer\n",
      "../../extensions/cando/src/chem/topology.cc:129 Topology_O::buildResidueForIsomer\n",
      "../../extensions/cando/src/chem/topology.cc:129 Topology_O::buildResidueForIsomer\n",
      "../../extensions/cando/src/chem/topology.cc:129 Topology_O::buildResidueForIsomer\n",
      "../../extensions/cando/src/chem/topology.cc:129 Topology_O::buildResidueForIsomer\n",
      "../../extensions/cando/src/chem/topology.cc:129 Topology_O::buildResidueForIsomer\n",
      "../../extensions/cando/src/chem/topology.cc:129 Topology_O::buildResidueForIsomer\n",
      "../../extensions/cando/src/chem/topology.cc:129 Topology_O::buildResidueForIsomer\n",
      "../../extensions/cando/src/chem/topology.cc:129 Topology_O::buildResidueForIsomer\n",
      "../../extensions/cando/src/chem/topology.cc:129 Topology_O::buildResidueForIsomer\n",
      "../../extensions/cando/src/chem/topology.cc:129 Topology_O::buildResidueForIsomer\n",
      "../../extensions/cando/src/chem/topology.cc:129 Topology_O::buildResidueForIsomer\n",
      "../../extensions/cando/src/chem/topology.cc:129 Topology_O::buildResidueForIsomer\n",
      "../../extensions/cando/src/chem/topology.cc:129 Topology_O::buildResidueForIsomer\n",
      "../../extensions/cando/src/chem/topology.cc:129 Topology_O::buildResidueForIsomer\n",
      "../../extensions/cando/src/chem/topology.cc:129 Topology_O::buildResidueForIsomer\n",
      "../../extensions/cando/src/chem/topology.cc:129 Topology_O::buildResidueForIsomer\n",
      "../../extensions/cando/src/chem/topology.cc:129 Topology_O::buildResidueForIsomer\n",
      "../../extensions/cando/src/chem/topology.cc:129 Topology_O::buildResidueForIsomer\n",
      "../../extensions/cando/src/chem/topology.cc:129 Topology_O::buildResidueForIsomer\n",
      "../../extensions/cando/src/chem/topology.cc:129 Topology_O::buildResidueForIsomer\n",
      "../../extensions/cando/src/chem/topology.cc:129 Topology_O::buildResidueForIsomer\n",
      "../../extensions/cando/src/chem/topology.cc:129 Topology_O::buildResidueForIsomer\n",
      "../../extensions/cando/src/chem/topology.cc:129 Topology_O::buildResidueForIsomer\n",
      "../../extensions/cando/src/chem/topology.cc:129 Topology_O::buildResidueForIsomer\n",
      "../../extensions/cando/src/chem/topology.cc:129 Topology_O::buildResidueForIsomer\n",
      "../../extensions/cando/src/chem/topology.cc:129 Topology_O::buildResidueForIsomer\n",
      "../../extensions/cando/src/chem/topology.cc:129 Topology_O::buildResidueForIsomer\n",
      "../../extensions/cando/src/chem/topology.cc:129 Topology_O::buildResidueForIsomer\n",
      "../../extensions/cando/src/chem/topology.cc:129 Topology_O::buildResidueForIsomer\n",
      "../../extensions/cando/src/chem/topology.cc:129 Topology_O::buildResidueForIsomer\n",
      "../../extensions/cando/src/chem/topology.cc:129 Topology_O::buildResidueForIsomer\n",
      "../../extensions/cando/src/chem/topology.cc:129 Topology_O::buildResidueForIsomer\n",
      "../../extensions/cando/src/chem/topology.cc:129 Topology_O::buildResidueForIsomer\n",
      "../../extensions/cando/src/chem/topology.cc:129 Topology_O::buildResidueForIsomer\n",
      "../../extensions/cando/src/chem/topology.cc:129 Topology_O::buildResidueForIsomer\n",
      "../../extensions/cando/src/chem/topology.cc:129 Topology_O::buildResidueForIsomer\n",
      "../../extensions/cando/src/chem/topology.cc:129 Topology_O::buildResidueForIsomer\n",
      "../../extensions/cando/src/chem/topology.cc:129 Topology_O::buildResidueForIsomer\n",
      "../../extensions/cando/src/chem/topology.cc:129 Topology_O::buildResidueForIsomer\n",
      "../../extensions/cando/src/chem/topology.cc:129 Topology_O::buildResidueForIsomer\n",
      "../../extensions/cando/src/chem/topology.cc:129 Topology_O::buildResidueForIsomer\n",
      "../../extensions/cando/src/chem/topology.cc:129 Topology_O::buildResidueForIsomer\n",
      "../../extensions/cando/src/chem/topology.cc:129 Topology_O::buildResidueForIsomer\n"
     ]
    },
    {
     "name": "stderr",
     "output_type": "stream",
     "text": [
      "\n",
      "There are 1 unbuilt heavy atoms - not building hydrogens\n"
     ]
    },
    {
     "data": {
      "text/plain": [
       "*PROTEIN*"
      ]
     },
     "execution_count": 4,
     "metadata": {},
     "output_type": "execute_result"
    }
   ],
   "source": [
    "(:= *protein* (load-pdb \"181L_mod.pdb\"))"
   ]
  },
  {
   "cell_type": "code",
   "execution_count": 5,
   "metadata": {},
   "outputs": [
    {
     "data": {
      "application/vnd.jupyter.widget-view+json": {
       "model_id": "386C6965-D239-42D4-B88D-9741AB35F7ED",
       "version_major": 2,
       "version_minor": 0
      },
      "text/plain": [
       "#<NGLV:NGLWIDGET>"
      ]
     },
     "execution_count": 5,
     "metadata": {},
     "output_type": "execute_result"
    }
   ],
   "source": [
    "(show *protein*)"
   ]
  },
  {
   "cell_type": "code",
   "execution_count": 41,
   "metadata": {},
   "outputs": [
    {
     "data": {
      "text/plain": [
       "NIL"
      ]
     },
     "execution_count": 41,
     "metadata": {},
     "output_type": "execute_result"
    }
   ],
   "source": [
    "(simple-build-unbuilt-atoms *protein*)"
   ]
  },
  {
   "cell_type": "code",
   "execution_count": 42,
   "metadata": {},
   "outputs": [
    {
     "name": "stdout",
     "output_type": "stream",
     "text": [
      "Saving matter to /Users/shiho/Development/verify-cando/lysozyme/181L_mod.mol2\n"
     ]
    },
    {
     "data": {
      "text/plain": [
       "NIL"
      ]
     },
     "execution_count": 42,
     "metadata": {},
     "output_type": "execute_result"
    }
   ],
   "source": [
    "(save-mol2 *protein* \"181L_mod.mol2\")"
   ]
  },
  {
   "cell_type": "code",
   "execution_count": 43,
   "metadata": {},
   "outputs": [
    {
     "data": {
      "text/plain": [
       "*PROTEIN2*"
      ]
     },
     "execution_count": 43,
     "metadata": {},
     "output_type": "execute_result"
    }
   ],
   "source": [
    "(:= *protein2* (load-mol2 \"181L_mod.mol2\"))"
   ]
  },
  {
   "cell_type": "code",
   "execution_count": 36,
   "metadata": {},
   "outputs": [
    {
     "name": "stdout",
     "output_type": "stream",
     "text": [
      "Constructing energy function\n",
      "Writing to /Users/shiho/Development/verify-cando/lysozyme/lyz-cando.parm7\n",
      "Starting prepare-amber-energy-dihedral\n",
      "Ordering i1,i2,i3,i4 prepare-amber-energy-dihedral\n",
      "1-4 interactions prepare-amber-energy-dihedral\n",
      "Counting w and w/o water prepare-amber-energy-dihedral\n",
      "Extracting prepare-amber-energy-dihedral\n",
      "Saving     [*****************************************] ETC: --"
     ]
    },
    {
     "data": {
      "text/plain": [
       "T"
      ]
     },
     "execution_count": 36,
     "metadata": {},
     "output_type": "execute_result"
    }
   ],
   "source": [
    "(core:with-dtrace-trigger (leap.topology:save-amber-parm-format *protein2* \"lyz-cando.parm7\" \"lyz-cando.rst7\"))"
   ]
  },
  {
   "cell_type": "code",
   "execution_count": 44,
   "metadata": {},
   "outputs": [
    {
     "data": {
      "text/plain": [
       "(:TIP3PFBOX)"
      ]
     },
     "execution_count": 44,
     "metadata": {},
     "output_type": "execute_result"
    }
   ],
   "source": [
    "(load-off \"tip3pfbox.off\")"
   ]
  },
  {
   "cell_type": "code",
   "execution_count": 45,
   "metadata": {},
   "outputs": [
    {
     "data": {
      "application/vnd.jupyter.widget-view+json": {
       "model_id": "7D101607-409C-450B-A87F-D4A37B0923A3",
       "version_major": 2,
       "version_minor": 0
      },
      "text/plain": [
       "#<NGLV:NGLWIDGET>"
      ]
     },
     "execution_count": 45,
     "metadata": {},
     "output_type": "execute_result"
    }
   ],
   "source": [
    "(show ~tip3pfbox)"
   ]
  },
  {
   "cell_type": "code",
   "execution_count": 46,
   "metadata": {},
   "outputs": [
    {
     "data": {
      "text/plain": [
       "*SOLVENT*"
      ]
     },
     "execution_count": 46,
     "metadata": {},
     "output_type": "execute_result"
    }
   ],
   "source": [
    "(defparameter *solvent* ~tip3pfbox)"
   ]
  },
  {
   "cell_type": "code",
   "execution_count": 47,
   "metadata": {},
   "outputs": [
    {
     "name": "stdout",
     "output_type": "stream",
     "text": [
      "Total bounding box for atom centers:   42.86  46.67  55.59\n",
      "There are 5832 solvent molecules and 2603 solute atoms\n",
      "Completed  [**************************************************] ETC: --"
     ]
    },
    {
     "data": {
      "text/plain": [
       "NIL"
      ]
     },
     "execution_count": 47,
     "metadata": {},
     "output_type": "execute_result"
    }
   ],
   "source": [
    "(leap.solvate::tool-solvate-and-shell *protein2* *solvent* '(3.0 3.0 3.0) :shell t)"
   ]
  },
  {
   "cell_type": "code",
   "execution_count": 48,
   "metadata": {},
   "outputs": [
    {
     "data": {
      "application/vnd.jupyter.widget-view+json": {
       "model_id": "36FFD8C8-09A1-45F1-A82C-F348A422F44D",
       "version_major": 2,
       "version_minor": 0
      },
      "text/plain": [
       "#<NGLV:NGLWIDGET>"
      ]
     },
     "execution_count": 48,
     "metadata": {},
     "output_type": "execute_result"
    }
   ],
   "source": [
    "(show *protein2*)"
   ]
  },
  {
   "cell_type": "code",
   "execution_count": 2,
   "metadata": {},
   "outputs": [
    {
     "name": "stderr",
     "output_type": "stream",
     "text": [
      "\n",
      "An error occurred of type: UNBOUND-VARIABLE: \n",
      "  The variable *PROTEIN2* is unbound.\n",
      "\n",
      "serious-condition backtrace:\n",
      "0: (UNIVERSAL-ERROR-HANDLER NIL UNBOUND-VARIABLE (:NAME *PROTEIN2*))\n",
      "1: (ERROR UNBOUND-VARIABLE :NAME *PROTEIN2*)\n",
      "2: (LAMBDA)\n",
      "3: (TRIGGER-DTRACE-START #<FUNCTION LAMBDA>)\n",
      "4: (LAMBDA)\n",
      "5: (FUNWIND-PROTECT #<FUNCTION LAMBDA> #<FUNCTION LAMBDA>)\n",
      "6: (APPLY CORE:FUNWIND-PROTECT (#<FUNCTION LAMBDA> #<FUNCTION LAMBDA>))\n",
      "7: ((METHOD CCLASP-EVAL-WITH-ENV (T T)) (CORE:WITH-DTRACE-TRIGGER (LEAP.TOPOLOGY:SAVE-AMBER-PARM-FORMAT *PROTEIN2* \"solvated_lyz-cando.parm7\" \"solvated_lyz-cando.rst7\")) NIL)\n",
      "8: (CCLASP-EVAL (CORE:WITH-DTRACE-TRIGGER (LEAP.TOPOLOGY:SAVE-AMBER-PARM-FORMAT *PROTEIN2* \"solvated_lyz-cando.parm7\" \"solvated_lyz-cando.rst7\")) NIL)\n",
      "9: (LAMBDA ((CORE:WITH-DTRACE-TRIGGER (LEAP.TOPOLOGY:SAVE-AMBER-PARM-FORMAT *PROTEIN2* \"solvated_lyz-cando.parm7\" \"solvated_lyz-cando.rst7\"))))\n",
      "10: ((METHOD CCLASP-EVAL-WITH-ENV (T T)) (PROGN (CORE:WITH-DTRACE-TRIGGER (LEAP.TOPOLOGY:SAVE-AMBER-PARM-FORMAT *PROTEIN2* \"solvated_lyz-cando.parm7\" \"solvated_lyz-cando.rst7\"))) NIL)\n",
      "11: (CCLASP-EVAL (PROGN (CORE:WITH-DTRACE-TRIGGER (LEAP.TOPOLOGY:SAVE-AMBER-PARM-FORMAT *PROTEIN2* \"solvated_lyz-cando.parm7\" \"solvated_lyz-cando.rst7\"))) NIL)\n",
      "12: (EVAL (PROGN (CORE:WITH-DTRACE-TRIGGER (LEAP.TOPOLOGY:SAVE-AMBER-PARM-FORMAT *PROTEIN2* \"solvated_lyz-cando.parm7\" \"solvated_lyz-cando.rst7\"))))\n",
      "13: (LAMBDA)\n",
      "14: (CALL-WITH-VARIABLE-BOUND *** NIL #<FUNCTION LAMBDA>)\n",
      "15: (LAMBDA)\n",
      "16: (CALL-WITH-VARIABLE-BOUND ** NIL #<FUNCTION LAMBDA>)\n",
      "17: (LAMBDA)\n",
      "18: (CALL-WITH-VARIABLE-BOUND * T #<FUNCTION LAMBDA>)\n",
      "19: (LAMBDA)\n",
      "20: (CALL-WITH-VARIABLE-BOUND CL-JUPYTER:*EVALUATOR* #<CL-JUPYTER::EVALUATOR> #<FUNCTION LAMBDA>)\n",
      "21: (LAMBDA)\n",
      "22: (CALL-WITH-VARIABLE-BOUND CORE::*HANDLER-CLUSTERS* (((WARNING . #<FUNCTION LAMBDA>) (SERIOUS-CONDITION . #<FUNCTION LAMBDA>))) #<FUNCTION LAMBDA>)\n",
      "23: (LAMBDA)\n",
      "24: (CALL-WITH-VARIABLE-BOUND *ERROR-OUTPUT* #<CL-JUPYTER::OUTPUT-STREAM> #<FUNCTION LAMBDA>)\n",
      "25: (LAMBDA)\n",
      "26: (CALL-WITH-VARIABLE-BOUND *STANDARD-OUTPUT* #<CL-JUPYTER::OUTPUT-STREAM> #<FUNCTION LAMBDA>)\n",
      "27: (EVALUATE-CODE #<CL-JUPYTER::EVALUATOR> \"(core:with-dtrace-trigger (leap.topology:save-amber-parm-format *protein2* \\\"solvated_lyz-cando.parm7\\\" \\\"solvated_lyz-cando.rst7\\\"))\" :IOPUB #<CL-JUPYTER::IOPUB-CHANNEL> :PARENT-MSG #<CL-JUPYTER:MESSAGE> :KEY #<SIMPLE-VECTOR-BYTE8-T  length:33 data: 100 54 52 53 102 52 101 97 45 97 99 54 99 56 52 102 97 49 53 57 102 53 56 48 50 57 53 98 100 54 49 49 48 >)\n",
      "28: (HANDLE-EXECUTE-REQUEST #<CL-JUPYTER::SHELL-CHANNEL> (#<SIMPLE-VECTOR-BYTE8-T  length:36 data: 98 49 50 101 97 102 55 57 45 102 99 50 100 45 52 51 97 102 45 56 102 54 48 45 53 97 52 97 49 56 55 55 50 53 50 52 >) #<CL-JUPYTER:MESSAGE>)\n",
      "29: (LAMBDA)\n",
      "30: (CALL-WITH-VARIABLE-BOUND CL-JUPYTER:*DEFAULT-SPECIAL-BINDINGS* ((CL-JUPYTER:*PARENT-MSG* . #<CL-JUPYTER:MESSAGE>) (CL-JUPYTER:*SHELL* . #<CL-JUPYTER::SHELL-CHANNEL>) (CL-JUPYTER:*KERNEL* . #<CL-JUPYTER:KERNEL>)) #<FUNCTION LAMBDA>)\n",
      "31: (LAMBDA)\n",
      "32: (CALL-WITH-VARIABLE-BOUND CL-JUPYTER:*KERNEL* #<CL-JUPYTER:KERNEL> #<FUNCTION LAMBDA>)\n",
      "33: (LAMBDA)\n",
      "34: (CALL-WITH-VARIABLE-BOUND CL-JUPYTER:*SHELL* #<CL-JUPYTER::SHELL-CHANNEL> #<FUNCTION LAMBDA>)\n",
      "35: (LAMBDA)\n",
      "36: (CALL-WITH-VARIABLE-BOUND CL-JUPYTER:*PARENT-MSG* #<CL-JUPYTER:MESSAGE> #<FUNCTION LAMBDA>)\n",
      "37: (CATCH-LAMBDA)\n",
      "38: (CATCH-FUNCTION CL-JUPYTER::INTERRUPT-SHELL #<FUNCTION CC-GENERATE-AST::CATCH-LAMBDA>)\n",
      "39: (LAMBDA)\n",
      "40: (FUNWIND-PROTECT #<FUNCTION LAMBDA> #<FUNCTION LAMBDA>)\n",
      "41: (SHELL-LOOP #<CL-JUPYTER::SHELL-CHANNEL>)\n",
      "42: (LAMBDA)\n",
      "43: (FUNWIND-PROTECT #<FUNCTION LAMBDA> #<FUNCTION LAMBDA>)\n",
      "44: (KERNEL-START \"/Users/shiho/Library/Jupyter/runtime/kernel-8e265b23-b36c-45ef-92e6-23677cc88581.json\")\n",
      "45: (LAMBDA)\n",
      "46: (CALL-WITH-VARIABLE-BOUND *READTABLE* #<READTABLE :case :UPCASE>  #<FUNCTION LAMBDA>)\n",
      "47: (CL-JUPYTER-KERNEL-START \"/Users/shiho/Library/Jupyter/runtime/kernel-8e265b23-b36c-45ef-92e6-23677cc88581.json\")\n",
      "48: (LAMBDA)\n",
      "49: (MULTIPLE-VALUE-PROG1-FUNCTION #<FUNCTION LAMBDA> #<FUNCTION LAMBDA>)\n",
      "50: (LAMBDA)\n",
      "51: (FUNWIND-PROTECT #<FUNCTION LAMBDA> #<FUNCTION LAMBDA>)\n",
      "52: (LAMBDA)\n",
      "53: (FUNWIND-PROTECT #<FUNCTION LAMBDA> #<FUNCTION LAMBDA>)\n",
      "54: (LAMBDA)\n",
      "55: (MULTIPLE-VALUE-PROG1-FUNCTION #<FUNCTION LAMBDA> #<FUNCTION LAMBDA>)\n",
      "56: (LAMBDA)\n",
      "57: (FUNWIND-PROTECT #<FUNCTION LAMBDA> #<FUNCTION LAMBDA>)\n",
      "58: (LAMBDA)\n",
      "59: (FUNWIND-PROTECT #<FUNCTION LAMBDA> #<FUNCTION LAMBDA>)\n",
      "60: (LAMBDA)\n",
      "61: (MULTIPLE-VALUE-PROG1-FUNCTION #<FUNCTION LAMBDA> #<FUNCTION LAMBDA>)\n",
      "62: (LAMBDA)\n",
      "63: (FUNWIND-PROTECT #<FUNCTION LAMBDA> #<FUNCTION LAMBDA>)\n",
      "64: (LAMBDA)\n",
      "65: (FUNWIND-PROTECT #<FUNCTION LAMBDA> #<FUNCTION LAMBDA>)\n",
      "66: (LAMBDA)\n",
      "67: (FUNWIND-PROTECT #<FUNCTION LAMBDA> #<FUNCTION LAMBDA>)\n",
      "68: (LAMBDA)\n",
      "69: (FUNWIND-PROTECT #<FUNCTION LAMBDA> #<FUNCTION LAMBDA>)\n",
      "70: (LAMBDA)\n",
      "71: (MULTIPLE-VALUE-PROG1-FUNCTION #<FUNCTION LAMBDA> #<FUNCTION LAMBDA>)\n",
      "72: (LAMBDA)\n",
      "73: (FUNWIND-PROTECT #<FUNCTION LAMBDA> #<FUNCTION LAMBDA>)\n",
      "74: (LAMBDA)\n",
      "75: (FUNWIND-PROTECT #<FUNCTION LAMBDA> #<FUNCTION LAMBDA>)\n",
      "76: (LAMBDA)\n",
      "77: (MULTIPLE-VALUE-PROG1-FUNCTION #<FUNCTION LAMBDA> #<FUNCTION LAMBDA>)\n",
      "78: (LAMBDA)\n",
      "79: (FUNWIND-PROTECT #<FUNCTION LAMBDA> #<FUNCTION LAMBDA>)\n",
      "80: (LAMBDA)\n",
      "81: (FUNWIND-PROTECT #<FUNCTION LAMBDA> #<FUNCTION LAMBDA>)\n",
      "82: (LAMBDA)\n",
      "83: (FUNWIND-PROTECT #<FUNCTION LAMBDA> #<FUNCTION LAMBDA>)\n",
      "84: (MAIN-JUPYTERLAB-FORK-SERVER)\n",
      "85: (APPLY COMMON-LISP-USER:MAIN-JUPYTERLAB-FORK-SERVER NIL)\n",
      "86: ((METHOD CCLASP-EVAL-WITH-ENV (T T)) (COMMON-LISP-USER:MAIN-JUPYTERLAB-FORK-SERVER) NIL)\n",
      "87: (CCLASP-EVAL (COMMON-LISP-USER:MAIN-JUPYTERLAB-FORK-SERVER) NIL)\n",
      "88: (LOAD-SOURCE #P\"/Users/shiho/Development/cando/src/lisp/modules/fork-server/fork-server.lisp\" NIL NIL :DEFAULT)\n",
      "89: (LOAD \"sys:modules;fork-server;fork-server.lisp\")\n",
      "90: (LAMBDA (:LOAD . \"sys:modules;fork-server;fork-server.lisp\"))\n",
      "91: (MAPCAR #<FUNCTION LAMBDA> ((:LOAD . \"sys:modules;fork-server;fork-server.lisp\")))\n",
      "92: (PROCESS-COMMAND-LINE-LOAD-EVAL-SEQUENCE)\n",
      "93: (LAMBDA)\n",
      "94: (CALL-WITH-VARIABLE-BOUND CORE:*USE-INTERPRETER-FOR-EVAL* NIL #<FUNCTION LAMBDA>)\n",
      "\n"
     ]
    },
    {
     "data": {
      "text/plain": [
       "NIL"
      ]
     },
     "execution_count": 2,
     "metadata": {},
     "output_type": "execute_result"
    }
   ],
   "source": [
    "(core:with-dtrace-trigger (leap.topology:save-amber-parm-format *protein2* \"solvated_lyz-cando.parm7\" \"solvated_lyz-cando.rst7\"))"
   ]
  },
  {
   "cell_type": "code",
   "execution_count": 28,
   "metadata": {},
   "outputs": [
    {
     "name": "stdout",
     "output_type": "stream",
     "text": [
      "Saving matter to /Users/shiho/Development/verify-cando/lysozyme/solvated_lyz-cando.mol2\n"
     ]
    },
    {
     "data": {
      "text/plain": [
       "NIL"
      ]
     },
     "execution_count": 28,
     "metadata": {},
     "output_type": "execute_result"
    }
   ],
   "source": [
    "(save-mol2 *protein2* \"solvated_lyz-cando.mol2\")"
   ]
  },
  {
   "cell_type": "code",
   "execution_count": 3,
   "metadata": {},
   "outputs": [
    {
     "name": "stdout",
     "output_type": "stream",
     "text": [
      "Unknown flag %FLAG HBOND_ACOEF                                                               \n",
      "Unknown flag %FLAG HBOND_BCOEF                                                               \n",
      "Unknown flag %FLAG HBCUT                                                                     \n",
      "Unknown flag %FLAG TREE_CHAIN_CLASSIFICATION                                                 \n",
      "Unknown flag %FLAG JOIN_ARRAY                                                                \n",
      "Unknown flag %FLAG IROTAT                                                                    \n",
      "Unknown flag %FLAG RADIUS_SET                                                                \n",
      "Unknown flag %FLAG RADII                                                                     \n",
      "Unknown flag %FLAG SCREEN                                                                    \n"
     ]
    },
    {
     "data": {
      "text/plain": [
       "*EF*"
      ]
     },
     "execution_count": 3,
     "metadata": {},
     "output_type": "execute_result"
    }
   ],
   "source": [
    "(:= *ef* (leap.topology::read-amber-parm-format \"solvated_lyz-cando.parm7\"))"
   ]
  },
  {
   "cell_type": "code",
   "execution_count": 3,
   "metadata": {},
   "outputs": [
    {
     "name": "stdout",
     "output_type": "stream",
     "text": [
      "Unknown flag %FLAG HBOND_ACOEF                                                               \n",
      "Unknown flag %FLAG HBOND_BCOEF                                                               \n",
      "Unknown flag %FLAG HBCUT                                                                     \n",
      "Unknown flag %FLAG TREE_CHAIN_CLASSIFICATION                                                 \n",
      "Unknown flag %FLAG JOIN_ARRAY                                                                \n",
      "Unknown flag %FLAG IROTAT                                                                    \n",
      "Unknown flag %FLAG RADIUS_SET                                                                \n",
      "Unknown flag %FLAG RADII                                                                     \n",
      "Unknown flag %FLAG SCREEN                                                                    \n",
      "Unknown flag %FLAG IPOL                                                                      \n"
     ]
    },
    {
     "data": {
      "text/plain": [
       "*EFL*"
      ]
     },
     "execution_count": 3,
     "metadata": {},
     "output_type": "execute_result"
    }
   ],
   "source": [
    "(:= *efl* (leap.topology::read-amber-parm-format \"solvated-lyz-leap.top\"))"
   ]
  },
  {
   "cell_type": "code",
   "execution_count": null,
   "metadata": {},
   "outputs": [],
   "source": [
    "(leap.topology::compare-energy-nonbond-parameters *efl1* *efl*)"
   ]
  },
  {
   "cell_type": "code",
   "execution_count": 18,
   "metadata": {},
   "outputs": [
    {
     "data": {
      "text/plain": [
       "22399"
      ]
     },
     "execution_count": 18,
     "metadata": {},
     "output_type": "execute_result"
    }
   ],
   "source": [
    "(core:getpid)"
   ]
  },
  {
   "cell_type": "code",
   "execution_count": 19,
   "metadata": {},
   "outputs": [
    {
     "data": {
      "text/plain": [
       "19824"
      ]
     },
     "execution_count": 19,
     "metadata": {},
     "output_type": "execute_result"
    }
   ],
   "source": [
    "(core:getppid)"
   ]
  },
  {
   "cell_type": "code",
   "execution_count": 15,
   "metadata": {},
   "outputs": [
    {
     "name": "stdout",
     "output_type": "stream",
     "text": [
      "CORE::SIMPLE-TERMINAL-INTERRUPT  Function\n",
      "CORE::SINGLE-THREADED-TERMINAL-INTERRUPT  Function\n",
      "CORE:TERMINAL-INTERRUPT  Function\n"
     ]
    },
    {
     "data": {
      "text/plain": [
       "NIL"
      ]
     },
     "execution_count": 15,
     "metadata": {},
     "output_type": "execute_result"
    }
   ],
   "source": [
    "(apropos \"terminal-interrupt\")"
   ]
  },
  {
   "cell_type": "code",
   "execution_count": 16,
   "metadata": {},
   "outputs": [
    {
     "data": {
      "text/plain": [
       "#<FUNCTION CORE:TERMINAL-INTERRUPT>"
      ]
     },
     "execution_count": 16,
     "metadata": {},
     "output_type": "execute_result"
    }
   ],
   "source": [
    "(fdefinition 'core:terminal-interrupt)"
   ]
  },
  {
   "cell_type": "code",
   "execution_count": 17,
   "metadata": {},
   "outputs": [
    {
     "data": {
      "text/plain": [
       "(#<PROCESS repl-thread @0x10e183e09> #<PROCESS auto-flush-thread @0x10e82f1c9>\n",
       " #<PROCESS swank-indentation-cache-thread @0x10e81fe09>\n",
       " #<PROCESS reader-thread @0x10e80f0e9> #<PROCESS control-thread @0x10e80f1c9>\n",
       " #<PROCESS Swank Sentinel @0x10e1390e9>\n",
       " #<PROCESS Anonymous thread @0x10e9caee9>\n",
       " #<PROCESS REMOTE-CALL-THREAD @0x10d3aa0e9> #<PROCESS TOP-LEVEL @0x10727d2a9>)"
      ]
     },
     "execution_count": 17,
     "metadata": {},
     "output_type": "execute_result"
    }
   ],
   "source": [
    "(mp:all-processes)"
   ]
  },
  {
   "cell_type": "code",
   "execution_count": 1,
   "metadata": {},
   "outputs": [
    {
     "data": {
      "text/plain": [
       "*P*"
      ]
     },
     "execution_count": 1,
     "metadata": {},
     "output_type": "execute_result"
    }
   ],
   "source": [
    "(defparameter *p* (mp:process-run-function 'foo (lambda () (loop for x below 100 do (format t \"x is ~a~%\" x) (finish-output) (sleep 1)))))"
   ]
  },
  {
   "cell_type": "code",
   "execution_count": 2,
   "metadata": {},
   "outputs": [
    {
     "data": {
      "text/plain": [
       "(#<PROCESS FOO @0x11941e8c9> #<PROCESS Anonymous thread @0x1190888c9>\n",
       " #<PROCESS REMOTE-CALL-THREAD @0x119088ee9> #<PROCESS TOP-LEVEL @0x115ffd0e9>)"
      ]
     },
     "execution_count": 2,
     "metadata": {},
     "output_type": "execute_result"
    }
   ],
   "source": [
    "(mp:all-processes)"
   ]
  },
  {
   "cell_type": "code",
   "execution_count": 3,
   "metadata": {},
   "outputs": [
    {
     "data": {
      "text/plain": [
       "#<PROCESS FOO @0x11941e8c9>"
      ]
     },
     "execution_count": 3,
     "metadata": {},
     "output_type": "execute_result"
    }
   ],
   "source": [
    "*p*"
   ]
  },
  {
   "cell_type": "code",
   "execution_count": 4,
   "metadata": {},
   "outputs": [
    {
     "data": {
      "text/plain": [
       "NIL"
      ]
     },
     "execution_count": 4,
     "metadata": {},
     "output_type": "execute_result"
    }
   ],
   "source": [
    "(mp:process-suspend *p*)"
   ]
  },
  {
   "cell_type": "code",
   "execution_count": 5,
   "metadata": {},
   "outputs": [
    {
     "data": {
      "text/plain": [
       "NIL"
      ]
     },
     "execution_count": 5,
     "metadata": {},
     "output_type": "execute_result"
    }
   ],
   "source": [
    "(mp:process-resume *p*)"
   ]
  },
  {
   "cell_type": "code",
   "execution_count": 7,
   "metadata": {},
   "outputs": [
    {
     "data": {
      "text/plain": [
       "#<FUNCTION MP:BREAK-SUSPEND-LOOP>"
      ]
     },
     "execution_count": 7,
     "metadata": {},
     "output_type": "execute_result"
    }
   ],
   "source": [
    "(fdefinition 'mp:break-suspend-loop)"
   ]
  },
  {
   "cell_type": "code",
   "execution_count": null,
   "metadata": {},
   "outputs": [],
   "source": []
  }
 ],
 "metadata": {
  "kernelspec": {
   "display_name": "clasp",
   "language": "lisp",
   "name": "clasp"
  },
  "language_info": {
   "codemirror_mode": "text/x-common-lisp",
   "file_extension": ".lisp",
   "mimetype": "text/x-common-lisp",
   "name": "common-lisp",
   "pygments_lexer": "common-lisp",
   "version": "X3J13"
  }
 },
 "nbformat": 4,
 "nbformat_minor": 2
}
