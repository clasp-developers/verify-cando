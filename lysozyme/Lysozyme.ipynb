{
 "cells": [
  {
   "cell_type": "code",
   "execution_count": 1,
   "metadata": {},
   "outputs": [
    {
     "name": "stderr",
     "output_type": "stream",
     "text": [
      "\n",
      ";; Swank started at port: 4005.\n"
     ]
    },
    {
     "data": {
      "text/plain": [
       "T"
      ]
     },
     "execution_count": 1,
     "metadata": {},
     "output_type": "execute_result"
    }
   ],
   "source": [
    "(start-swank)"
   ]
  },
  {
   "cell_type": "code",
   "execution_count": 2,
   "metadata": {},
   "outputs": [
    {
     "data": {
      "text/plain": [
       "(#P\"/Users/shiho/Development/amber18/dat/antechamber/\"\n",
       " #P\"/Users/shiho/Development/amber18/dat/leap/cmd/\"\n",
       " #P\"/Users/shiho/Development/amber18/dat/leap/parm/\"\n",
       " #P\"/Users/shiho/Development/amber18/dat/leap/lib/\"\n",
       " #P\"/Users/shiho/Development/amber18/dat/leap/prep/\")"
      ]
     },
     "execution_count": 2,
     "metadata": {},
     "output_type": "execute_result"
    }
   ],
   "source": [
    "(setf (logical-pathname-translations \"amber\")\n",
    "    (list (list \"**;*.*\" (concatenate 'string (ext:getenv \"AMBERHOME\") \"/**/*.*\"))))\n",
    "(leap.core:clear-path)\n",
    "(leap.core:add-path \"amber:dat;leap;prep;\")\n",
    "(leap.core:add-path \"amber:dat;leap;lib;\")\n",
    "(leap.core:add-path \"amber:dat;leap;parm;\")\n",
    "(leap.core:add-path \"amber:dat;leap;cmd;\")\n",
    "(add-path \"amber:dat;antechamber;\")"
   ]
  },
  {
   "cell_type": "code",
   "execution_count": 3,
   "metadata": {},
   "outputs": [
    {
     "name": "stderr",
     "output_type": "stream",
     "text": [
      "\n",
      "add-atom-types doesn't do anything\n",
      "\n",
      "Warning!  Skipping 10-12 hbond\n",
      "\n",
      "\n",
      "Warning!  Skipping force field atom equivalences\n",
      "\n"
     ]
    },
    {
     "data": {
      "text/plain": [
       "T"
      ]
     },
     "execution_count": 3,
     "metadata": {},
     "output_type": "execute_result"
    }
   ],
   "source": [
    "(source #P\"leaprc.protein.ff14SB\")"
   ]
  },
  {
   "cell_type": "code",
   "execution_count": 4,
   "metadata": {},
   "outputs": [
    {
     "name": "stdout",
     "output_type": "stream",
     "text": [
      "../../extensions/cando/src/chem/topology.cc:129 Topology_O::buildResidueForIsomer\n",
      "../../extensions/cando/src/chem/topology.cc:129 Topology_O::buildResidueForIsomer\n",
      "../../extensions/cando/src/chem/topology.cc:129 Topology_O::buildResidueForIsomer\n",
      "../../extensions/cando/src/chem/topology.cc:129 Topology_O::buildResidueForIsomer\n",
      "../../extensions/cando/src/chem/topology.cc:129 Topology_O::buildResidueForIsomer\n",
      "../../extensions/cando/src/chem/topology.cc:129 Topology_O::buildResidueForIsomer\n",
      "../../extensions/cando/src/chem/topology.cc:129 Topology_O::buildResidueForIsomer\n",
      "../../extensions/cando/src/chem/topology.cc:129 Topology_O::buildResidueForIsomer\n",
      "../../extensions/cando/src/chem/topology.cc:129 Topology_O::buildResidueForIsomer\n",
      "../../extensions/cando/src/chem/topology.cc:129 Topology_O::buildResidueForIsomer\n",
      "../../extensions/cando/src/chem/topology.cc:129 Topology_O::buildResidueForIsomer\n",
      "../../extensions/cando/src/chem/topology.cc:129 Topology_O::buildResidueForIsomer\n",
      "../../extensions/cando/src/chem/topology.cc:129 Topology_O::buildResidueForIsomer\n",
      "../../extensions/cando/src/chem/topology.cc:129 Topology_O::buildResidueForIsomer\n",
      "../../extensions/cando/src/chem/topology.cc:129 Topology_O::buildResidueForIsomer\n",
      "../../extensions/cando/src/chem/topology.cc:129 Topology_O::buildResidueForIsomer\n",
      "../../extensions/cando/src/chem/topology.cc:129 Topology_O::buildResidueForIsomer\n",
      "../../extensions/cando/src/chem/topology.cc:129 Topology_O::buildResidueForIsomer\n",
      "../../extensions/cando/src/chem/topology.cc:129 Topology_O::buildResidueForIsomer\n",
      "../../extensions/cando/src/chem/topology.cc:129 Topology_O::buildResidueForIsomer\n",
      "../../extensions/cando/src/chem/topology.cc:129 Topology_O::buildResidueForIsomer\n",
      "../../extensions/cando/src/chem/topology.cc:129 Topology_O::buildResidueForIsomer\n",
      "../../extensions/cando/src/chem/topology.cc:129 Topology_O::buildResidueForIsomer\n",
      "../../extensions/cando/src/chem/topology.cc:129 Topology_O::buildResidueForIsomer\n",
      "../../extensions/cando/src/chem/topology.cc:129 Topology_O::buildResidueForIsomer\n",
      "../../extensions/cando/src/chem/topology.cc:129 Topology_O::buildResidueForIsomer\n",
      "../../extensions/cando/src/chem/topology.cc:129 Topology_O::buildResidueForIsomer\n",
      "../../extensions/cando/src/chem/topology.cc:129 Topology_O::buildResidueForIsomer\n",
      "../../extensions/cando/src/chem/topology.cc:129 Topology_O::buildResidueForIsomer\n",
      "../../extensions/cando/src/chem/topology.cc:129 Topology_O::buildResidueForIsomer\n",
      "../../extensions/cando/src/chem/topology.cc:129 Topology_O::buildResidueForIsomer\n",
      "../../extensions/cando/src/chem/topology.cc:129 Topology_O::buildResidueForIsomer\n",
      "../../extensions/cando/src/chem/topology.cc:129 Topology_O::buildResidueForIsomer\n",
      "../../extensions/cando/src/chem/topology.cc:129 Topology_O::buildResidueForIsomer\n",
      "../../extensions/cando/src/chem/topology.cc:129 Topology_O::buildResidueForIsomer\n",
      "../../extensions/cando/src/chem/topology.cc:129 Topology_O::buildResidueForIsomer\n",
      "../../extensions/cando/src/chem/topology.cc:129 Topology_O::buildResidueForIsomer\n",
      "../../extensions/cando/src/chem/topology.cc:129 Topology_O::buildResidueForIsomer\n",
      "../../extensions/cando/src/chem/topology.cc:129 Topology_O::buildResidueForIsomer\n",
      "../../extensions/cando/src/chem/topology.cc:129 Topology_O::buildResidueForIsomer\n",
      "../../extensions/cando/src/chem/topology.cc:129 Topology_O::buildResidueForIsomer\n",
      "../../extensions/cando/src/chem/topology.cc:129 Topology_O::buildResidueForIsomer\n",
      "../../extensions/cando/src/chem/topology.cc:129 Topology_O::buildResidueForIsomer\n",
      "../../extensions/cando/src/chem/topology.cc:129 Topology_O::buildResidueForIsomer\n",
      "../../extensions/cando/src/chem/topology.cc:129 Topology_O::buildResidueForIsomer\n",
      "../../extensions/cando/src/chem/topology.cc:129 Topology_O::buildResidueForIsomer\n",
      "../../extensions/cando/src/chem/topology.cc:129 Topology_O::buildResidueForIsomer\n",
      "../../extensions/cando/src/chem/topology.cc:129 Topology_O::buildResidueForIsomer\n",
      "../../extensions/cando/src/chem/topology.cc:129 Topology_O::buildResidueForIsomer\n",
      "../../extensions/cando/src/chem/topology.cc:129 Topology_O::buildResidueForIsomer\n",
      "../../extensions/cando/src/chem/topology.cc:129 Topology_O::buildResidueForIsomer\n",
      "../../extensions/cando/src/chem/topology.cc:129 Topology_O::buildResidueForIsomer\n",
      "../../extensions/cando/src/chem/topology.cc:129 Topology_O::buildResidueForIsomer\n",
      "../../extensions/cando/src/chem/topology.cc:129 Topology_O::buildResidueForIsomer\n",
      "../../extensions/cando/src/chem/topology.cc:129 Topology_O::buildResidueForIsomer\n",
      "../../extensions/cando/src/chem/topology.cc:129 Topology_O::buildResidueForIsomer\n",
      "../../extensions/cando/src/chem/topology.cc:129 Topology_O::buildResidueForIsomer\n",
      "../../extensions/cando/src/chem/topology.cc:129 Topology_O::buildResidueForIsomer\n",
      "../../extensions/cando/src/chem/topology.cc:129 Topology_O::buildResidueForIsomer\n",
      "../../extensions/cando/src/chem/topology.cc:129 Topology_O::buildResidueForIsomer\n",
      "../../extensions/cando/src/chem/topology.cc:129 Topology_O::buildResidueForIsomer\n",
      "../../extensions/cando/src/chem/topology.cc:129 Topology_O::buildResidueForIsomer\n",
      "../../extensions/cando/src/chem/topology.cc:129 Topology_O::buildResidueForIsomer\n",
      "../../extensions/cando/src/chem/topology.cc:129 Topology_O::buildResidueForIsomer\n",
      "../../extensions/cando/src/chem/topology.cc:129 Topology_O::buildResidueForIsomer\n",
      "../../extensions/cando/src/chem/topology.cc:129 Topology_O::buildResidueForIsomer\n",
      "../../extensions/cando/src/chem/topology.cc:129 Topology_O::buildResidueForIsomer\n",
      "../../extensions/cando/src/chem/topology.cc:129 Topology_O::buildResidueForIsomer\n",
      "../../extensions/cando/src/chem/topology.cc:129 Topology_O::buildResidueForIsomer\n",
      "../../extensions/cando/src/chem/topology.cc:129 Topology_O::buildResidueForIsomer\n",
      "../../extensions/cando/src/chem/topology.cc:129 Topology_O::buildResidueForIsomer\n",
      "../../extensions/cando/src/chem/topology.cc:129 Topology_O::buildResidueForIsomer\n",
      "../../extensions/cando/src/chem/topology.cc:129 Topology_O::buildResidueForIsomer\n",
      "../../extensions/cando/src/chem/topology.cc:129 Topology_O::buildResidueForIsomer\n",
      "../../extensions/cando/src/chem/topology.cc:129 Topology_O::buildResidueForIsomer\n",
      "../../extensions/cando/src/chem/topology.cc:129 Topology_O::buildResidueForIsomer\n",
      "../../extensions/cando/src/chem/topology.cc:129 Topology_O::buildResidueForIsomer\n",
      "../../extensions/cando/src/chem/topology.cc:129 Topology_O::buildResidueForIsomer\n",
      "../../extensions/cando/src/chem/topology.cc:129 Topology_O::buildResidueForIsomer\n",
      "../../extensions/cando/src/chem/topology.cc:129 Topology_O::buildResidueForIsomer\n",
      "../../extensions/cando/src/chem/topology.cc:129 Topology_O::buildResidueForIsomer\n",
      "../../extensions/cando/src/chem/topology.cc:129 Topology_O::buildResidueForIsomer\n",
      "../../extensions/cando/src/chem/topology.cc:129 Topology_O::buildResidueForIsomer\n",
      "../../extensions/cando/src/chem/topology.cc:129 Topology_O::buildResidueForIsomer\n",
      "../../extensions/cando/src/chem/topology.cc:129 Topology_O::buildResidueForIsomer\n",
      "../../extensions/cando/src/chem/topology.cc:129 Topology_O::buildResidueForIsomer\n",
      "../../extensions/cando/src/chem/topology.cc:129 Topology_O::buildResidueForIsomer\n",
      "../../extensions/cando/src/chem/topology.cc:129 Topology_O::buildResidueForIsomer\n",
      "../../extensions/cando/src/chem/topology.cc:129 Topology_O::buildResidueForIsomer\n",
      "../../extensions/cando/src/chem/topology.cc:129 Topology_O::buildResidueForIsomer\n",
      "../../extensions/cando/src/chem/topology.cc:129 Topology_O::buildResidueForIsomer\n",
      "../../extensions/cando/src/chem/topology.cc:129 Topology_O::buildResidueForIsomer\n",
      "../../extensions/cando/src/chem/topology.cc:129 Topology_O::buildResidueForIsomer\n",
      "../../extensions/cando/src/chem/topology.cc:129 Topology_O::buildResidueForIsomer\n",
      "../../extensions/cando/src/chem/topology.cc:129 Topology_O::buildResidueForIsomer\n",
      "../../extensions/cando/src/chem/topology.cc:129 Topology_O::buildResidueForIsomer\n",
      "../../extensions/cando/src/chem/topology.cc:129 Topology_O::buildResidueForIsomer\n",
      "../../extensions/cando/src/chem/topology.cc:129 Topology_O::buildResidueForIsomer\n",
      "../../extensions/cando/src/chem/topology.cc:129 Topology_O::buildResidueForIsomer\n",
      "../../extensions/cando/src/chem/topology.cc:129 Topology_O::buildResidueForIsomer\n",
      "../../extensions/cando/src/chem/topology.cc:129 Topology_O::buildResidueForIsomer\n",
      "../../extensions/cando/src/chem/topology.cc:129 Topology_O::buildResidueForIsomer\n",
      "../../extensions/cando/src/chem/topology.cc:129 Topology_O::buildResidueForIsomer\n",
      "../../extensions/cando/src/chem/topology.cc:129 Topology_O::buildResidueForIsomer\n",
      "../../extensions/cando/src/chem/topology.cc:129 Topology_O::buildResidueForIsomer\n",
      "../../extensions/cando/src/chem/topology.cc:129 Topology_O::buildResidueForIsomer\n",
      "../../extensions/cando/src/chem/topology.cc:129 Topology_O::buildResidueForIsomer\n",
      "../../extensions/cando/src/chem/topology.cc:129 Topology_O::buildResidueForIsomer\n",
      "../../extensions/cando/src/chem/topology.cc:129 Topology_O::buildResidueForIsomer\n",
      "../../extensions/cando/src/chem/topology.cc:129 Topology_O::buildResidueForIsomer\n",
      "../../extensions/cando/src/chem/topology.cc:129 Topology_O::buildResidueForIsomer\n",
      "../../extensions/cando/src/chem/topology.cc:129 Topology_O::buildResidueForIsomer\n",
      "../../extensions/cando/src/chem/topology.cc:129 Topology_O::buildResidueForIsomer\n",
      "../../extensions/cando/src/chem/topology.cc:129 Topology_O::buildResidueForIsomer\n",
      "../../extensions/cando/src/chem/topology.cc:129 Topology_O::buildResidueForIsomer\n",
      "../../extensions/cando/src/chem/topology.cc:129 Topology_O::buildResidueForIsomer\n",
      "../../extensions/cando/src/chem/topology.cc:129 Topology_O::buildResidueForIsomer\n",
      "../../extensions/cando/src/chem/topology.cc:129 Topology_O::buildResidueForIsomer\n",
      "../../extensions/cando/src/chem/topology.cc:129 Topology_O::buildResidueForIsomer\n",
      "../../extensions/cando/src/chem/topology.cc:129 Topology_O::buildResidueForIsomer\n",
      "../../extensions/cando/src/chem/topology.cc:129 Topology_O::buildResidueForIsomer\n",
      "../../extensions/cando/src/chem/topology.cc:129 Topology_O::buildResidueForIsomer\n",
      "../../extensions/cando/src/chem/topology.cc:129 Topology_O::buildResidueForIsomer\n",
      "../../extensions/cando/src/chem/topology.cc:129 Topology_O::buildResidueForIsomer\n",
      "../../extensions/cando/src/chem/topology.cc:129 Topology_O::buildResidueForIsomer\n",
      "../../extensions/cando/src/chem/topology.cc:129 Topology_O::buildResidueForIsomer\n",
      "../../extensions/cando/src/chem/topology.cc:129 Topology_O::buildResidueForIsomer\n",
      "../../extensions/cando/src/chem/topology.cc:129 Topology_O::buildResidueForIsomer\n",
      "../../extensions/cando/src/chem/topology.cc:129 Topology_O::buildResidueForIsomer\n",
      "../../extensions/cando/src/chem/topology.cc:129 Topology_O::buildResidueForIsomer\n",
      "../../extensions/cando/src/chem/topology.cc:129 Topology_O::buildResidueForIsomer\n",
      "../../extensions/cando/src/chem/topology.cc:129 Topology_O::buildResidueForIsomer\n",
      "../../extensions/cando/src/chem/topology.cc:129 Topology_O::buildResidueForIsomer\n",
      "../../extensions/cando/src/chem/topology.cc:129 Topology_O::buildResidueForIsomer\n",
      "../../extensions/cando/src/chem/topology.cc:129 Topology_O::buildResidueForIsomer\n",
      "../../extensions/cando/src/chem/topology.cc:129 Topology_O::buildResidueForIsomer\n",
      "../../extensions/cando/src/chem/topology.cc:129 Topology_O::buildResidueForIsomer\n",
      "../../extensions/cando/src/chem/topology.cc:129 Topology_O::buildResidueForIsomer\n",
      "../../extensions/cando/src/chem/topology.cc:129 Topology_O::buildResidueForIsomer\n",
      "../../extensions/cando/src/chem/topology.cc:129 Topology_O::buildResidueForIsomer\n",
      "../../extensions/cando/src/chem/topology.cc:129 Topology_O::buildResidueForIsomer\n",
      "../../extensions/cando/src/chem/topology.cc:129 Topology_O::buildResidueForIsomer\n",
      "../../extensions/cando/src/chem/topology.cc:129 Topology_O::buildResidueForIsomer\n",
      "../../extensions/cando/src/chem/topology.cc:129 Topology_O::buildResidueForIsomer\n",
      "../../extensions/cando/src/chem/topology.cc:129 Topology_O::buildResidueForIsomer\n",
      "../../extensions/cando/src/chem/topology.cc:129 Topology_O::buildResidueForIsomer\n",
      "../../extensions/cando/src/chem/topology.cc:129 Topology_O::buildResidueForIsomer\n",
      "../../extensions/cando/src/chem/topology.cc:129 Topology_O::buildResidueForIsomer\n",
      "../../extensions/cando/src/chem/topology.cc:129 Topology_O::buildResidueForIsomer\n",
      "../../extensions/cando/src/chem/topology.cc:129 Topology_O::buildResidueForIsomer\n",
      "../../extensions/cando/src/chem/topology.cc:129 Topology_O::buildResidueForIsomer\n",
      "../../extensions/cando/src/chem/topology.cc:129 Topology_O::buildResidueForIsomer\n",
      "../../extensions/cando/src/chem/topology.cc:129 Topology_O::buildResidueForIsomer\n",
      "../../extensions/cando/src/chem/topology.cc:129 Topology_O::buildResidueForIsomer\n",
      "../../extensions/cando/src/chem/topology.cc:129 Topology_O::buildResidueForIsomer\n",
      "../../extensions/cando/src/chem/topology.cc:129 Topology_O::buildResidueForIsomer\n",
      "../../extensions/cando/src/chem/topology.cc:129 Topology_O::buildResidueForIsomer\n",
      "../../extensions/cando/src/chem/topology.cc:129 Topology_O::buildResidueForIsomer\n",
      "../../extensions/cando/src/chem/topology.cc:129 Topology_O::buildResidueForIsomer\n",
      "../../extensions/cando/src/chem/topology.cc:129 Topology_O::buildResidueForIsomer\n",
      "../../extensions/cando/src/chem/topology.cc:129 Topology_O::buildResidueForIsomer\n",
      "../../extensions/cando/src/chem/topology.cc:129 Topology_O::buildResidueForIsomer\n"
     ]
    },
    {
     "name": "stderr",
     "output_type": "stream",
     "text": [
      "\n",
      "There are 1 unbuilt heavy atoms - not building hydrogens\n"
     ]
    },
    {
     "data": {
      "text/plain": [
       "*PROTEIN*"
      ]
     },
     "execution_count": 4,
     "metadata": {},
     "output_type": "execute_result"
    }
   ],
   "source": [
    "(:= *protein* (load-pdb \"181L_mod.pdb\"))"
   ]
  },
  {
   "cell_type": "code",
   "execution_count": 5,
   "metadata": {},
   "outputs": [
    {
     "data": {
      "application/vnd.jupyter.widget-view+json": {
       "model_id": "BBB59AD2-BFE9-4992-9DC8-246100D17C65",
       "version_major": 2,
       "version_minor": 0
      },
      "text/plain": [
       "#<NGLV:NGLWIDGET>"
      ]
     },
     "execution_count": 5,
     "metadata": {},
     "output_type": "execute_result"
    }
   ],
   "source": [
    "(show *protein*)"
   ]
  },
  {
   "cell_type": "code",
   "execution_count": 6,
   "metadata": {},
   "outputs": [
    {
     "data": {
      "text/plain": [
       "NIL"
      ]
     },
     "execution_count": 6,
     "metadata": {},
     "output_type": "execute_result"
    }
   ],
   "source": [
    "(simple-build-unbuilt-atoms *protein*)"
   ]
  },
  {
   "cell_type": "code",
   "execution_count": 7,
   "metadata": {},
   "outputs": [
    {
     "name": "stdout",
     "output_type": "stream",
     "text": [
      "Saving matter to /Users/shiho/Development/verify-cando/lysozyme/181L_mod.mol2\n"
     ]
    },
    {
     "data": {
      "text/plain": [
       "NIL"
      ]
     },
     "execution_count": 7,
     "metadata": {},
     "output_type": "execute_result"
    }
   ],
   "source": [
    "(save-mol2 *protein* \"181L_mod.mol2\")"
   ]
  },
  {
   "cell_type": "code",
   "execution_count": 8,
   "metadata": {},
   "outputs": [
    {
     "data": {
      "text/plain": [
       "*PROTEIN2*"
      ]
     },
     "execution_count": 8,
     "metadata": {},
     "output_type": "execute_result"
    }
   ],
   "source": [
    "(:= *protein2* (load-mol2 \"181L_mod.mol2\"))"
   ]
  },
  {
   "cell_type": "code",
   "execution_count": 9,
   "metadata": {},
   "outputs": [
    {
     "name": "stdout",
     "output_type": "stream",
     "text": [
      "Constructing energy function\n",
      "Writing to /Users/shiho/Development/verify-cando/lysozyme/lyz-cando.parm7\n",
      "Starting prepare-amber-energy-dihedral\n",
      "Ordering i1,i2,i3,i4 prepare-amber-energy-dihedral\n",
      "1-4 interactions prepare-amber-energy-dihedral\n",
      "Counting w and w/o water prepare-amber-energy-dihedral\n",
      "Extracting prepare-amber-energy-dihedral\n",
      "Saving     [*****************************************] ETC: --"
     ]
    },
    {
     "data": {
      "text/plain": [
       "T"
      ]
     },
     "execution_count": 9,
     "metadata": {},
     "output_type": "execute_result"
    }
   ],
   "source": [
    "(core:with-dtrace-trigger (leap.topology:save-amber-parm-format *protein2* \"lyz-cando.parm7\" \"lyz-cando.rst7\"))"
   ]
  },
  {
   "cell_type": "code",
   "execution_count": 10,
   "metadata": {},
   "outputs": [
    {
     "data": {
      "text/plain": [
       "(:TIP3PFBOX)"
      ]
     },
     "execution_count": 10,
     "metadata": {},
     "output_type": "execute_result"
    }
   ],
   "source": [
    "(load-off \"tip3pfbox.off\")"
   ]
  },
  {
   "cell_type": "code",
   "execution_count": 11,
   "metadata": {},
   "outputs": [
    {
     "data": {
      "application/vnd.jupyter.widget-view+json": {
       "model_id": "E038B071-0DF3-48A9-A3F5-C0921649451F",
       "version_major": 2,
       "version_minor": 0
      },
      "text/plain": [
       "#<NGLV:NGLWIDGET>"
      ]
     },
     "execution_count": 11,
     "metadata": {},
     "output_type": "execute_result"
    }
   ],
   "source": [
    "(show ~tip3pfbox)"
   ]
  },
  {
   "cell_type": "code",
   "execution_count": 12,
   "metadata": {},
   "outputs": [
    {
     "data": {
      "text/plain": [
       "*SOLVENT*"
      ]
     },
     "execution_count": 12,
     "metadata": {},
     "output_type": "execute_result"
    }
   ],
   "source": [
    "(defparameter *solvent* ~tip3pfbox)"
   ]
  },
  {
   "cell_type": "code",
   "execution_count": 13,
   "metadata": {},
   "outputs": [
    {
     "name": "stdout",
     "output_type": "stream",
     "text": [
      "Total bounding box for atom centers:   52.94  57.23  65.34\n",
      "There are 10368 solvent molecules and 2603 solute atoms\n",
      "Completed  [**************************************************] ETC: --"
     ]
    },
    {
     "data": {
      "text/plain": [
       "NIL"
      ]
     },
     "execution_count": 13,
     "metadata": {},
     "output_type": "execute_result"
    }
   ],
   "source": [
    "(leap.solvate::tool-solvate-and-shell *protein2* *solvent* '(8.0 8.0 8.0) :closeness 0.75)"
   ]
  },
  {
   "cell_type": "code",
   "execution_count": 14,
   "metadata": {},
   "outputs": [
    {
     "data": {
      "application/vnd.jupyter.widget-view+json": {
       "model_id": "57D5C517-E78A-4137-8EEA-AC61C3C177DC",
       "version_major": 2,
       "version_minor": 0
      },
      "text/plain": [
       "#<NGLV:NGLWIDGET>"
      ]
     },
     "execution_count": 14,
     "metadata": {},
     "output_type": "execute_result"
    }
   ],
   "source": [
    "(show *protein2*)"
   ]
  },
  {
   "cell_type": "code",
   "execution_count": 15,
   "metadata": {},
   "outputs": [
    {
     "name": "stdout",
     "output_type": "stream",
     "text": [
      "Constructing energy function\n",
      "Writing to /Users/shiho/Development/verify-cando/lysozyme/solvated_lyz-cando.parm7\n",
      "Starting prepare-amber-energy-dihedral\n",
      "Ordering i1,i2,i3,i4 prepare-amber-energy-dihedral\n",
      "1-4 interactions prepare-amber-energy-dihedral\n",
      "Counting w and w/o water prepare-amber-energy-dihedral\n",
      "Extracting prepare-amber-energy-dihedral\n",
      "Saving     [******************************************] ETC: --"
     ]
    },
    {
     "data": {
      "text/plain": [
       "T"
      ]
     },
     "execution_count": 15,
     "metadata": {},
     "output_type": "execute_result"
    }
   ],
   "source": [
    "(core:with-dtrace-trigger (leap.topology:save-amber-parm-format *protein2* \"solvated_lyz-cando.parm7\" \"solvated_lyz-cando.rst7\"))"
   ]
  },
  {
   "cell_type": "code",
   "execution_count": 16,
   "metadata": {},
   "outputs": [
    {
     "name": "stdout",
     "output_type": "stream",
     "text": [
      "Saving matter to /Users/shiho/Development/verify-cando/lysozyme/solvated_lyz-cando.mol2\n"
     ]
    },
    {
     "data": {
      "text/plain": [
       "NIL"
      ]
     },
     "execution_count": 16,
     "metadata": {},
     "output_type": "execute_result"
    }
   ],
   "source": [
    "(save-mol2 *protein2* \"solvated_lyz-cando.mol2\")"
   ]
  },
  {
   "cell_type": "code",
   "execution_count": 17,
   "metadata": {},
   "outputs": [
    {
     "name": "stdout",
     "output_type": "stream",
     "text": [
      "Unknown flag %FLAG HBOND_ACOEF                                                               \n",
      "Unknown flag %FLAG HBOND_BCOEF                                                               \n",
      "Unknown flag %FLAG HBCUT                                                                     \n",
      "Unknown flag %FLAG TREE_CHAIN_CLASSIFICATION                                                 \n",
      "Unknown flag %FLAG JOIN_ARRAY                                                                \n",
      "Unknown flag %FLAG IROTAT                                                                    \n",
      "Unknown flag %FLAG SOLVENT_POINTERS                                                          \n",
      "Unknown flag %FLAG ATOMS_PER_MOLECULE                                                        \n",
      "Unknown flag %FLAG BOX_DIMENSIONS                                                            \n",
      "Unknown flag %FLAG RADIUS_SET                                                                \n",
      "Unknown flag %FLAG RADII                                                                     \n",
      "Unknown flag %FLAG SCREEN                                                                    \n"
     ]
    },
    {
     "data": {
      "text/plain": [
       "*EF*"
      ]
     },
     "execution_count": 17,
     "metadata": {},
     "output_type": "execute_result"
    }
   ],
   "source": [
    "(:= *ef* (leap.topology::read-amber-parm-format \"solvated_lyz-cando.parm7\"))"
   ]
  },
  {
   "cell_type": "code",
   "execution_count": 18,
   "metadata": {},
   "outputs": [
    {
     "name": "stdout",
     "output_type": "stream",
     "text": [
      "Unknown flag %FLAG HBOND_ACOEF                                                               \n",
      "Unknown flag %FLAG HBOND_BCOEF                                                               \n",
      "Unknown flag %FLAG HBCUT                                                                     \n",
      "Unknown flag %FLAG TREE_CHAIN_CLASSIFICATION                                                 \n",
      "Unknown flag %FLAG JOIN_ARRAY                                                                \n",
      "Unknown flag %FLAG IROTAT                                                                    \n",
      "Unknown flag %FLAG RADIUS_SET                                                                \n",
      "Unknown flag %FLAG RADII                                                                     \n",
      "Unknown flag %FLAG SCREEN                                                                    \n",
      "Unknown flag %FLAG IPOL                                                                      \n"
     ]
    },
    {
     "data": {
      "text/plain": [
       "*EFL*"
      ]
     },
     "execution_count": 18,
     "metadata": {},
     "output_type": "execute_result"
    }
   ],
   "source": [
    "(:= *efl* (leap.topology::read-amber-parm-format \"solvated-lyz-leap.top\"))"
   ]
  },
  {
   "cell_type": "code",
   "execution_count": null,
   "metadata": {},
   "outputs": [],
   "source": [
    "(leap.topology::compare-energy-nonbond-parameters *ef* *efl*)"
   ]
  },
  {
   "cell_type": "code",
   "execution_count": 18,
   "metadata": {},
   "outputs": [
    {
     "data": {
      "text/plain": [
       "22399"
      ]
     },
     "execution_count": 18,
     "metadata": {},
     "output_type": "execute_result"
    }
   ],
   "source": [
    "(core:getpid)"
   ]
  },
  {
   "cell_type": "code",
   "execution_count": 19,
   "metadata": {},
   "outputs": [
    {
     "data": {
      "text/plain": [
       "19824"
      ]
     },
     "execution_count": 19,
     "metadata": {},
     "output_type": "execute_result"
    }
   ],
   "source": [
    "(core:getppid)"
   ]
  },
  {
   "cell_type": "code",
   "execution_count": 15,
   "metadata": {},
   "outputs": [
    {
     "name": "stdout",
     "output_type": "stream",
     "text": [
      "CORE::SIMPLE-TERMINAL-INTERRUPT  Function\n",
      "CORE::SINGLE-THREADED-TERMINAL-INTERRUPT  Function\n",
      "CORE:TERMINAL-INTERRUPT  Function\n"
     ]
    },
    {
     "data": {
      "text/plain": [
       "NIL"
      ]
     },
     "execution_count": 15,
     "metadata": {},
     "output_type": "execute_result"
    }
   ],
   "source": [
    "(apropos \"terminal-interrupt\")"
   ]
  },
  {
   "cell_type": "code",
   "execution_count": 16,
   "metadata": {},
   "outputs": [
    {
     "data": {
      "text/plain": [
       "#<FUNCTION CORE:TERMINAL-INTERRUPT>"
      ]
     },
     "execution_count": 16,
     "metadata": {},
     "output_type": "execute_result"
    }
   ],
   "source": [
    "(fdefinition 'core:terminal-interrupt)"
   ]
  },
  {
   "cell_type": "code",
   "execution_count": 17,
   "metadata": {},
   "outputs": [
    {
     "data": {
      "text/plain": [
       "(#<PROCESS repl-thread @0x10e183e09> #<PROCESS auto-flush-thread @0x10e82f1c9>\n",
       " #<PROCESS swank-indentation-cache-thread @0x10e81fe09>\n",
       " #<PROCESS reader-thread @0x10e80f0e9> #<PROCESS control-thread @0x10e80f1c9>\n",
       " #<PROCESS Swank Sentinel @0x10e1390e9>\n",
       " #<PROCESS Anonymous thread @0x10e9caee9>\n",
       " #<PROCESS REMOTE-CALL-THREAD @0x10d3aa0e9> #<PROCESS TOP-LEVEL @0x10727d2a9>)"
      ]
     },
     "execution_count": 17,
     "metadata": {},
     "output_type": "execute_result"
    }
   ],
   "source": [
    "(mp:all-processes)"
   ]
  },
  {
   "cell_type": "code",
   "execution_count": 1,
   "metadata": {},
   "outputs": [
    {
     "data": {
      "text/plain": [
       "*P*"
      ]
     },
     "execution_count": 1,
     "metadata": {},
     "output_type": "execute_result"
    }
   ],
   "source": [
    "(defparameter *p* (mp:process-run-function 'foo (lambda () (loop for x below 100 do (format t \"x is ~a~%\" x) (finish-output) (sleep 1)))))"
   ]
  },
  {
   "cell_type": "code",
   "execution_count": 2,
   "metadata": {},
   "outputs": [
    {
     "data": {
      "text/plain": [
       "(#<PROCESS FOO @0x11941e8c9> #<PROCESS Anonymous thread @0x1190888c9>\n",
       " #<PROCESS REMOTE-CALL-THREAD @0x119088ee9> #<PROCESS TOP-LEVEL @0x115ffd0e9>)"
      ]
     },
     "execution_count": 2,
     "metadata": {},
     "output_type": "execute_result"
    }
   ],
   "source": [
    "(mp:all-processes)"
   ]
  },
  {
   "cell_type": "code",
   "execution_count": 3,
   "metadata": {},
   "outputs": [
    {
     "data": {
      "text/plain": [
       "#<PROCESS FOO @0x11941e8c9>"
      ]
     },
     "execution_count": 3,
     "metadata": {},
     "output_type": "execute_result"
    }
   ],
   "source": [
    "*p*"
   ]
  },
  {
   "cell_type": "code",
   "execution_count": 4,
   "metadata": {},
   "outputs": [
    {
     "data": {
      "text/plain": [
       "NIL"
      ]
     },
     "execution_count": 4,
     "metadata": {},
     "output_type": "execute_result"
    }
   ],
   "source": [
    "(mp:process-suspend *p*)"
   ]
  },
  {
   "cell_type": "code",
   "execution_count": 5,
   "metadata": {},
   "outputs": [
    {
     "data": {
      "text/plain": [
       "NIL"
      ]
     },
     "execution_count": 5,
     "metadata": {},
     "output_type": "execute_result"
    }
   ],
   "source": [
    "(mp:process-resume *p*)"
   ]
  },
  {
   "cell_type": "code",
   "execution_count": 7,
   "metadata": {},
   "outputs": [
    {
     "data": {
      "text/plain": [
       "#<FUNCTION MP:BREAK-SUSPEND-LOOP>"
      ]
     },
     "execution_count": 7,
     "metadata": {},
     "output_type": "execute_result"
    }
   ],
   "source": [
    "(fdefinition 'mp:break-suspend-loop)"
   ]
  },
  {
   "cell_type": "code",
   "execution_count": null,
   "metadata": {},
   "outputs": [],
   "source": []
  }
 ],
 "metadata": {
  "kernelspec": {
   "display_name": "clasp",
   "language": "lisp",
   "name": "clasp"
  },
  "language_info": {
   "codemirror_mode": "text/x-common-lisp",
   "file_extension": ".lisp",
   "mimetype": "text/x-common-lisp",
   "name": "common-lisp",
   "pygments_lexer": "common-lisp",
   "version": "X3J13"
  }
 },
 "nbformat": 4,
 "nbformat_minor": 2
}
