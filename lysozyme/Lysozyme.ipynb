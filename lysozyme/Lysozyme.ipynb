{
 "cells": [
  {
   "cell_type": "code",
   "execution_count": 1,
   "metadata": {},
   "outputs": [
    {
     "name": "stderr",
     "output_type": "stream",
     "text": [
      "\n",
      ";; Swank started at port: 4005.\n"
     ]
    },
    {
     "data": {
      "text/plain": [
       "T"
      ]
     },
     "execution_count": 1,
     "metadata": {},
     "output_type": "execute_result"
    }
   ],
   "source": [
    "(start-swank)"
   ]
  },
  {
   "cell_type": "code",
   "execution_count": 29,
   "metadata": {},
   "outputs": [
    {
     "data": {
      "text/plain": [
       "(#P\"/Users/shiho/Development/amber18/dat/antechamber/\"\n",
       " #P\"/Users/shiho/Development/amber18/dat/leap/cmd/\"\n",
       " #P\"/Users/shiho/Development/amber18/dat/leap/parm/\"\n",
       " #P\"/Users/shiho/Development/amber18/dat/leap/lib/\"\n",
       " #P\"/Users/shiho/Development/amber18/dat/leap/prep/\")"
      ]
     },
     "execution_count": 29,
     "metadata": {},
     "output_type": "execute_result"
    }
   ],
   "source": [
    "(setf (logical-pathname-translations \"amber\")\n",
    "    (list (list \"**;*.*\" (concatenate 'string (ext:getenv \"AMBERHOME\") \"/**/*.*\"))))\n",
    "(leap.core:clear-path)\n",
    "(leap.core:add-path \"amber:dat;leap;prep;\")\n",
    "(leap.core:add-path \"amber:dat;leap;lib;\")\n",
    "(leap.core:add-path \"amber:dat;leap;parm;\")\n",
    "(leap.core:add-path \"amber:dat;leap;cmd;\")\n",
    "(add-path \"amber:dat;antechamber;\")"
   ]
  },
  {
   "cell_type": "code",
   "execution_count": 30,
   "metadata": {},
   "outputs": [
    {
     "name": "stderr",
     "output_type": "stream",
     "text": [
      "\n",
      "add-atom-types doesn't do anything\n",
      "\n",
      "Warning!  Skipping 10-12 hbond\n",
      "\n",
      "\n",
      "Warning!  Skipping force field atom equivalences\n",
      "\n"
     ]
    },
    {
     "data": {
      "text/plain": [
       "T"
      ]
     },
     "execution_count": 30,
     "metadata": {},
     "output_type": "execute_result"
    }
   ],
   "source": [
    "(source #P\"leaprc.protein.ff14SB\")"
   ]
  },
  {
   "cell_type": "code",
   "execution_count": 31,
   "metadata": {},
   "outputs": [
    {
     "name": "stdout",
     "output_type": "stream",
     "text": [
      "../../extensions/cando/src/chem/topology.cc:129 Topology_O::buildResidueForIsomer\n",
      "../../extensions/cando/src/chem/topology.cc:129 Topology_O::buildResidueForIsomer\n",
      "../../extensions/cando/src/chem/topology.cc:129 Topology_O::buildResidueForIsomer\n",
      "../../extensions/cando/src/chem/topology.cc:129 Topology_O::buildResidueForIsomer\n",
      "../../extensions/cando/src/chem/topology.cc:129 Topology_O::buildResidueForIsomer\n",
      "../../extensions/cando/src/chem/topology.cc:129 Topology_O::buildResidueForIsomer\n",
      "../../extensions/cando/src/chem/topology.cc:129 Topology_O::buildResidueForIsomer\n",
      "../../extensions/cando/src/chem/topology.cc:129 Topology_O::buildResidueForIsomer\n",
      "../../extensions/cando/src/chem/topology.cc:129 Topology_O::buildResidueForIsomer\n",
      "../../extensions/cando/src/chem/topology.cc:129 Topology_O::buildResidueForIsomer\n",
      "../../extensions/cando/src/chem/topology.cc:129 Topology_O::buildResidueForIsomer\n",
      "../../extensions/cando/src/chem/topology.cc:129 Topology_O::buildResidueForIsomer\n",
      "../../extensions/cando/src/chem/topology.cc:129 Topology_O::buildResidueForIsomer\n",
      "../../extensions/cando/src/chem/topology.cc:129 Topology_O::buildResidueForIsomer\n",
      "../../extensions/cando/src/chem/topology.cc:129 Topology_O::buildResidueForIsomer\n",
      "../../extensions/cando/src/chem/topology.cc:129 Topology_O::buildResidueForIsomer\n",
      "../../extensions/cando/src/chem/topology.cc:129 Topology_O::buildResidueForIsomer\n",
      "../../extensions/cando/src/chem/topology.cc:129 Topology_O::buildResidueForIsomer\n",
      "../../extensions/cando/src/chem/topology.cc:129 Topology_O::buildResidueForIsomer\n",
      "../../extensions/cando/src/chem/topology.cc:129 Topology_O::buildResidueForIsomer\n",
      "../../extensions/cando/src/chem/topology.cc:129 Topology_O::buildResidueForIsomer\n",
      "../../extensions/cando/src/chem/topology.cc:129 Topology_O::buildResidueForIsomer\n",
      "../../extensions/cando/src/chem/topology.cc:129 Topology_O::buildResidueForIsomer\n",
      "../../extensions/cando/src/chem/topology.cc:129 Topology_O::buildResidueForIsomer\n",
      "../../extensions/cando/src/chem/topology.cc:129 Topology_O::buildResidueForIsomer\n",
      "../../extensions/cando/src/chem/topology.cc:129 Topology_O::buildResidueForIsomer\n",
      "../../extensions/cando/src/chem/topology.cc:129 Topology_O::buildResidueForIsomer\n",
      "../../extensions/cando/src/chem/topology.cc:129 Topology_O::buildResidueForIsomer\n",
      "../../extensions/cando/src/chem/topology.cc:129 Topology_O::buildResidueForIsomer\n",
      "../../extensions/cando/src/chem/topology.cc:129 Topology_O::buildResidueForIsomer\n",
      "../../extensions/cando/src/chem/topology.cc:129 Topology_O::buildResidueForIsomer\n",
      "../../extensions/cando/src/chem/topology.cc:129 Topology_O::buildResidueForIsomer\n",
      "../../extensions/cando/src/chem/topology.cc:129 Topology_O::buildResidueForIsomer\n",
      "../../extensions/cando/src/chem/topology.cc:129 Topology_O::buildResidueForIsomer\n",
      "../../extensions/cando/src/chem/topology.cc:129 Topology_O::buildResidueForIsomer\n",
      "../../extensions/cando/src/chem/topology.cc:129 Topology_O::buildResidueForIsomer\n",
      "../../extensions/cando/src/chem/topology.cc:129 Topology_O::buildResidueForIsomer\n",
      "../../extensions/cando/src/chem/topology.cc:129 Topology_O::buildResidueForIsomer\n",
      "../../extensions/cando/src/chem/topology.cc:129 Topology_O::buildResidueForIsomer\n",
      "../../extensions/cando/src/chem/topology.cc:129 Topology_O::buildResidueForIsomer\n",
      "../../extensions/cando/src/chem/topology.cc:129 Topology_O::buildResidueForIsomer\n",
      "../../extensions/cando/src/chem/topology.cc:129 Topology_O::buildResidueForIsomer\n",
      "../../extensions/cando/src/chem/topology.cc:129 Topology_O::buildResidueForIsomer\n",
      "../../extensions/cando/src/chem/topology.cc:129 Topology_O::buildResidueForIsomer\n",
      "../../extensions/cando/src/chem/topology.cc:129 Topology_O::buildResidueForIsomer\n",
      "../../extensions/cando/src/chem/topology.cc:129 Topology_O::buildResidueForIsomer\n",
      "../../extensions/cando/src/chem/topology.cc:129 Topology_O::buildResidueForIsomer\n",
      "../../extensions/cando/src/chem/topology.cc:129 Topology_O::buildResidueForIsomer\n",
      "../../extensions/cando/src/chem/topology.cc:129 Topology_O::buildResidueForIsomer\n",
      "../../extensions/cando/src/chem/topology.cc:129 Topology_O::buildResidueForIsomer\n",
      "../../extensions/cando/src/chem/topology.cc:129 Topology_O::buildResidueForIsomer\n",
      "../../extensions/cando/src/chem/topology.cc:129 Topology_O::buildResidueForIsomer\n",
      "../../extensions/cando/src/chem/topology.cc:129 Topology_O::buildResidueForIsomer\n",
      "../../extensions/cando/src/chem/topology.cc:129 Topology_O::buildResidueForIsomer\n",
      "../../extensions/cando/src/chem/topology.cc:129 Topology_O::buildResidueForIsomer\n",
      "../../extensions/cando/src/chem/topology.cc:129 Topology_O::buildResidueForIsomer\n",
      "../../extensions/cando/src/chem/topology.cc:129 Topology_O::buildResidueForIsomer\n",
      "../../extensions/cando/src/chem/topology.cc:129 Topology_O::buildResidueForIsomer\n",
      "../../extensions/cando/src/chem/topology.cc:129 Topology_O::buildResidueForIsomer\n",
      "../../extensions/cando/src/chem/topology.cc:129 Topology_O::buildResidueForIsomer\n",
      "../../extensions/cando/src/chem/topology.cc:129 Topology_O::buildResidueForIsomer\n",
      "../../extensions/cando/src/chem/topology.cc:129 Topology_O::buildResidueForIsomer\n",
      "../../extensions/cando/src/chem/topology.cc:129 Topology_O::buildResidueForIsomer\n",
      "../../extensions/cando/src/chem/topology.cc:129 Topology_O::buildResidueForIsomer\n",
      "../../extensions/cando/src/chem/topology.cc:129 Topology_O::buildResidueForIsomer\n",
      "../../extensions/cando/src/chem/topology.cc:129 Topology_O::buildResidueForIsomer\n",
      "../../extensions/cando/src/chem/topology.cc:129 Topology_O::buildResidueForIsomer\n",
      "../../extensions/cando/src/chem/topology.cc:129 Topology_O::buildResidueForIsomer\n",
      "../../extensions/cando/src/chem/topology.cc:129 Topology_O::buildResidueForIsomer\n",
      "../../extensions/cando/src/chem/topology.cc:129 Topology_O::buildResidueForIsomer\n",
      "../../extensions/cando/src/chem/topology.cc:129 Topology_O::buildResidueForIsomer\n",
      "../../extensions/cando/src/chem/topology.cc:129 Topology_O::buildResidueForIsomer\n",
      "../../extensions/cando/src/chem/topology.cc:129 Topology_O::buildResidueForIsomer\n",
      "../../extensions/cando/src/chem/topology.cc:129 Topology_O::buildResidueForIsomer\n",
      "../../extensions/cando/src/chem/topology.cc:129 Topology_O::buildResidueForIsomer\n",
      "../../extensions/cando/src/chem/topology.cc:129 Topology_O::buildResidueForIsomer\n",
      "../../extensions/cando/src/chem/topology.cc:129 Topology_O::buildResidueForIsomer\n",
      "../../extensions/cando/src/chem/topology.cc:129 Topology_O::buildResidueForIsomer\n",
      "../../extensions/cando/src/chem/topology.cc:129 Topology_O::buildResidueForIsomer\n",
      "../../extensions/cando/src/chem/topology.cc:129 Topology_O::buildResidueForIsomer\n",
      "../../extensions/cando/src/chem/topology.cc:129 Topology_O::buildResidueForIsomer\n",
      "../../extensions/cando/src/chem/topology.cc:129 Topology_O::buildResidueForIsomer\n",
      "../../extensions/cando/src/chem/topology.cc:129 Topology_O::buildResidueForIsomer\n",
      "../../extensions/cando/src/chem/topology.cc:129 Topology_O::buildResidueForIsomer\n",
      "../../extensions/cando/src/chem/topology.cc:129 Topology_O::buildResidueForIsomer\n",
      "../../extensions/cando/src/chem/topology.cc:129 Topology_O::buildResidueForIsomer\n",
      "../../extensions/cando/src/chem/topology.cc:129 Topology_O::buildResidueForIsomer\n",
      "../../extensions/cando/src/chem/topology.cc:129 Topology_O::buildResidueForIsomer\n",
      "../../extensions/cando/src/chem/topology.cc:129 Topology_O::buildResidueForIsomer\n",
      "../../extensions/cando/src/chem/topology.cc:129 Topology_O::buildResidueForIsomer\n",
      "../../extensions/cando/src/chem/topology.cc:129 Topology_O::buildResidueForIsomer\n",
      "../../extensions/cando/src/chem/topology.cc:129 Topology_O::buildResidueForIsomer\n",
      "../../extensions/cando/src/chem/topology.cc:129 Topology_O::buildResidueForIsomer\n",
      "../../extensions/cando/src/chem/topology.cc:129 Topology_O::buildResidueForIsomer\n",
      "../../extensions/cando/src/chem/topology.cc:129 Topology_O::buildResidueForIsomer\n",
      "../../extensions/cando/src/chem/topology.cc:129 Topology_O::buildResidueForIsomer\n",
      "../../extensions/cando/src/chem/topology.cc:129 Topology_O::buildResidueForIsomer\n",
      "../../extensions/cando/src/chem/topology.cc:129 Topology_O::buildResidueForIsomer\n",
      "../../extensions/cando/src/chem/topology.cc:129 Topology_O::buildResidueForIsomer\n",
      "../../extensions/cando/src/chem/topology.cc:129 Topology_O::buildResidueForIsomer\n",
      "../../extensions/cando/src/chem/topology.cc:129 Topology_O::buildResidueForIsomer\n",
      "../../extensions/cando/src/chem/topology.cc:129 Topology_O::buildResidueForIsomer\n",
      "../../extensions/cando/src/chem/topology.cc:129 Topology_O::buildResidueForIsomer\n",
      "../../extensions/cando/src/chem/topology.cc:129 Topology_O::buildResidueForIsomer\n",
      "../../extensions/cando/src/chem/topology.cc:129 Topology_O::buildResidueForIsomer\n",
      "../../extensions/cando/src/chem/topology.cc:129 Topology_O::buildResidueForIsomer\n",
      "../../extensions/cando/src/chem/topology.cc:129 Topology_O::buildResidueForIsomer\n",
      "../../extensions/cando/src/chem/topology.cc:129 Topology_O::buildResidueForIsomer\n",
      "../../extensions/cando/src/chem/topology.cc:129 Topology_O::buildResidueForIsomer\n",
      "../../extensions/cando/src/chem/topology.cc:129 Topology_O::buildResidueForIsomer\n",
      "../../extensions/cando/src/chem/topology.cc:129 Topology_O::buildResidueForIsomer\n",
      "../../extensions/cando/src/chem/topology.cc:129 Topology_O::buildResidueForIsomer\n",
      "../../extensions/cando/src/chem/topology.cc:129 Topology_O::buildResidueForIsomer\n",
      "../../extensions/cando/src/chem/topology.cc:129 Topology_O::buildResidueForIsomer\n",
      "../../extensions/cando/src/chem/topology.cc:129 Topology_O::buildResidueForIsomer\n",
      "../../extensions/cando/src/chem/topology.cc:129 Topology_O::buildResidueForIsomer\n",
      "../../extensions/cando/src/chem/topology.cc:129 Topology_O::buildResidueForIsomer\n",
      "../../extensions/cando/src/chem/topology.cc:129 Topology_O::buildResidueForIsomer\n",
      "../../extensions/cando/src/chem/topology.cc:129 Topology_O::buildResidueForIsomer\n",
      "../../extensions/cando/src/chem/topology.cc:129 Topology_O::buildResidueForIsomer\n",
      "../../extensions/cando/src/chem/topology.cc:129 Topology_O::buildResidueForIsomer\n",
      "../../extensions/cando/src/chem/topology.cc:129 Topology_O::buildResidueForIsomer\n",
      "../../extensions/cando/src/chem/topology.cc:129 Topology_O::buildResidueForIsomer\n",
      "../../extensions/cando/src/chem/topology.cc:129 Topology_O::buildResidueForIsomer\n",
      "../../extensions/cando/src/chem/topology.cc:129 Topology_O::buildResidueForIsomer\n",
      "../../extensions/cando/src/chem/topology.cc:129 Topology_O::buildResidueForIsomer\n",
      "../../extensions/cando/src/chem/topology.cc:129 Topology_O::buildResidueForIsomer\n",
      "../../extensions/cando/src/chem/topology.cc:129 Topology_O::buildResidueForIsomer\n",
      "../../extensions/cando/src/chem/topology.cc:129 Topology_O::buildResidueForIsomer\n",
      "../../extensions/cando/src/chem/topology.cc:129 Topology_O::buildResidueForIsomer\n",
      "../../extensions/cando/src/chem/topology.cc:129 Topology_O::buildResidueForIsomer\n",
      "../../extensions/cando/src/chem/topology.cc:129 Topology_O::buildResidueForIsomer\n",
      "../../extensions/cando/src/chem/topology.cc:129 Topology_O::buildResidueForIsomer\n",
      "../../extensions/cando/src/chem/topology.cc:129 Topology_O::buildResidueForIsomer\n",
      "../../extensions/cando/src/chem/topology.cc:129 Topology_O::buildResidueForIsomer\n",
      "../../extensions/cando/src/chem/topology.cc:129 Topology_O::buildResidueForIsomer\n",
      "../../extensions/cando/src/chem/topology.cc:129 Topology_O::buildResidueForIsomer\n",
      "../../extensions/cando/src/chem/topology.cc:129 Topology_O::buildResidueForIsomer\n",
      "../../extensions/cando/src/chem/topology.cc:129 Topology_O::buildResidueForIsomer\n",
      "../../extensions/cando/src/chem/topology.cc:129 Topology_O::buildResidueForIsomer\n",
      "../../extensions/cando/src/chem/topology.cc:129 Topology_O::buildResidueForIsomer\n",
      "../../extensions/cando/src/chem/topology.cc:129 Topology_O::buildResidueForIsomer\n",
      "../../extensions/cando/src/chem/topology.cc:129 Topology_O::buildResidueForIsomer\n",
      "../../extensions/cando/src/chem/topology.cc:129 Topology_O::buildResidueForIsomer\n",
      "../../extensions/cando/src/chem/topology.cc:129 Topology_O::buildResidueForIsomer\n",
      "../../extensions/cando/src/chem/topology.cc:129 Topology_O::buildResidueForIsomer\n",
      "../../extensions/cando/src/chem/topology.cc:129 Topology_O::buildResidueForIsomer\n",
      "../../extensions/cando/src/chem/topology.cc:129 Topology_O::buildResidueForIsomer\n",
      "../../extensions/cando/src/chem/topology.cc:129 Topology_O::buildResidueForIsomer\n",
      "../../extensions/cando/src/chem/topology.cc:129 Topology_O::buildResidueForIsomer\n",
      "../../extensions/cando/src/chem/topology.cc:129 Topology_O::buildResidueForIsomer\n",
      "../../extensions/cando/src/chem/topology.cc:129 Topology_O::buildResidueForIsomer\n",
      "../../extensions/cando/src/chem/topology.cc:129 Topology_O::buildResidueForIsomer\n",
      "../../extensions/cando/src/chem/topology.cc:129 Topology_O::buildResidueForIsomer\n",
      "../../extensions/cando/src/chem/topology.cc:129 Topology_O::buildResidueForIsomer\n",
      "../../extensions/cando/src/chem/topology.cc:129 Topology_O::buildResidueForIsomer\n",
      "../../extensions/cando/src/chem/topology.cc:129 Topology_O::buildResidueForIsomer\n",
      "../../extensions/cando/src/chem/topology.cc:129 Topology_O::buildResidueForIsomer\n",
      "../../extensions/cando/src/chem/topology.cc:129 Topology_O::buildResidueForIsomer\n",
      "../../extensions/cando/src/chem/topology.cc:129 Topology_O::buildResidueForIsomer\n",
      "../../extensions/cando/src/chem/topology.cc:129 Topology_O::buildResidueForIsomer\n",
      "../../extensions/cando/src/chem/topology.cc:129 Topology_O::buildResidueForIsomer\n"
     ]
    },
    {
     "name": "stderr",
     "output_type": "stream",
     "text": [
      "\n",
      "There are 1 unbuilt heavy atoms - not building hydrogens\n"
     ]
    },
    {
     "data": {
      "text/plain": [
       "*PROTEIN*"
      ]
     },
     "execution_count": 31,
     "metadata": {},
     "output_type": "execute_result"
    }
   ],
   "source": [
    "(:= *protein* (load-pdb \"181L_mod.pdb\"))"
   ]
  },
  {
   "cell_type": "code",
   "execution_count": 32,
   "metadata": {},
   "outputs": [
    {
     "data": {
      "application/vnd.jupyter.widget-view+json": {
       "model_id": "5BCE0582-A11A-4AA8-85AF-11B4E0479B11",
       "version_major": 2,
       "version_minor": 0
      },
      "text/plain": [
       "#<NGLV:NGLWIDGET>"
      ]
     },
     "execution_count": 32,
     "metadata": {},
     "output_type": "execute_result"
    }
   ],
   "source": [
    "(show *protein*)"
   ]
  },
  {
   "cell_type": "code",
   "execution_count": 33,
   "metadata": {},
   "outputs": [
    {
     "data": {
      "text/plain": [
       "NIL"
      ]
     },
     "execution_count": 33,
     "metadata": {},
     "output_type": "execute_result"
    }
   ],
   "source": [
    "(simple-build-unbuilt-atoms *protein*)"
   ]
  },
  {
   "cell_type": "code",
   "execution_count": 34,
   "metadata": {},
   "outputs": [
    {
     "name": "stdout",
     "output_type": "stream",
     "text": [
      "Saving matter to /Users/shiho/Development/verify-cando/lysozyme/181L_mod.mol2\n"
     ]
    },
    {
     "data": {
      "text/plain": [
       "NIL"
      ]
     },
     "execution_count": 34,
     "metadata": {},
     "output_type": "execute_result"
    }
   ],
   "source": [
    "(save-mol2 *protein* \"181L_mod.mol2\")"
   ]
  },
  {
   "cell_type": "code",
   "execution_count": 35,
   "metadata": {},
   "outputs": [
    {
     "data": {
      "text/plain": [
       "*PROTEIN2*"
      ]
     },
     "execution_count": 35,
     "metadata": {},
     "output_type": "execute_result"
    }
   ],
   "source": [
    "(:= *protein2* (load-mol2 \"181L_mod.mol2\"))"
   ]
  },
  {
   "cell_type": "code",
   "execution_count": 36,
   "metadata": {},
   "outputs": [
    {
     "name": "stdout",
     "output_type": "stream",
     "text": [
      "Constructing energy function\n",
      "Writing to /Users/shiho/Development/verify-cando/lysozyme/lyz-cando.parm7\n",
      "Starting prepare-amber-energy-dihedral\n",
      "Ordering i1,i2,i3,i4 prepare-amber-energy-dihedral\n",
      "1-4 interactions prepare-amber-energy-dihedral\n",
      "Counting w and w/o water prepare-amber-energy-dihedral\n",
      "Extracting prepare-amber-energy-dihedral\n",
      "Saving     [*****************************************] ETC: --"
     ]
    },
    {
     "data": {
      "text/plain": [
       "T"
      ]
     },
     "execution_count": 36,
     "metadata": {},
     "output_type": "execute_result"
    }
   ],
   "source": [
    "(core:with-dtrace-trigger (leap.topology:save-amber-parm-format *protein2* \"lyz-cando.parm7\" \"lyz-cando.rst7\"))"
   ]
  },
  {
   "cell_type": "code",
   "execution_count": 37,
   "metadata": {},
   "outputs": [
    {
     "data": {
      "text/plain": [
       "(:TIP3PFBOX)"
      ]
     },
     "execution_count": 37,
     "metadata": {},
     "output_type": "execute_result"
    }
   ],
   "source": [
    "(load-off \"tip3pfbox.off\")"
   ]
  },
  {
   "cell_type": "code",
   "execution_count": 38,
   "metadata": {},
   "outputs": [
    {
     "data": {
      "application/vnd.jupyter.widget-view+json": {
       "model_id": "33C5B000-6822-4194-87BC-43FCDFD5ACB9",
       "version_major": 2,
       "version_minor": 0
      },
      "text/plain": [
       "#<NGLV:NGLWIDGET>"
      ]
     },
     "execution_count": 38,
     "metadata": {},
     "output_type": "execute_result"
    }
   ],
   "source": [
    "(show ~tip3pfbox)"
   ]
  },
  {
   "cell_type": "code",
   "execution_count": 24,
   "metadata": {},
   "outputs": [
    {
     "data": {
      "text/plain": [
       "*SOLVENT*"
      ]
     },
     "execution_count": 24,
     "metadata": {},
     "output_type": "execute_result"
    }
   ],
   "source": [
    "(defparameter *solvent* ~tip3pfbox)"
   ]
  },
  {
   "cell_type": "code",
   "execution_count": 25,
   "metadata": {},
   "outputs": [
    {
     "name": "stdout",
     "output_type": "stream",
     "text": [
      "Total bounding box for atom centers:   45.09  49.02  56.55\n",
      "There are 7776 solvent molecules and 2603 solute atoms\n",
      "Completed  [**************************************************] ETC: --"
     ]
    },
    {
     "data": {
      "text/plain": [
       "NIL"
      ]
     },
     "execution_count": 25,
     "metadata": {},
     "output_type": "execute_result"
    }
   ],
   "source": [
    "(leap.solvate::tool-solvate-and-shell *protein2* *solvent* '(4.0 4.0 4.0) :shell t)"
   ]
  },
  {
   "cell_type": "code",
   "execution_count": 26,
   "metadata": {},
   "outputs": [
    {
     "data": {
      "application/vnd.jupyter.widget-view+json": {
       "model_id": "8410EA60-946C-413E-A071-516DDA9A5274",
       "version_major": 2,
       "version_minor": 0
      },
      "text/plain": [
       "#<NGLV:NGLWIDGET>"
      ]
     },
     "execution_count": 26,
     "metadata": {},
     "output_type": "execute_result"
    }
   ],
   "source": [
    "(show *protein2*)"
   ]
  },
  {
   "cell_type": "code",
   "execution_count": 27,
   "metadata": {},
   "outputs": [
    {
     "name": "stdout",
     "output_type": "stream",
     "text": [
      "Constructing energy function\n",
      "Writing to /Users/shiho/Development/verify-cando/lysozyme/solvated_lyz-cando.parm7\n",
      "Starting prepare-amber-energy-dihedral\n",
      "Ordering i1,i2,i3,i4 prepare-amber-energy-dihedral\n",
      "1-4 interactions prepare-amber-energy-dihedral\n",
      "Counting w and w/o water prepare-amber-energy-dihedral\n",
      "Extracting prepare-amber-energy-dihedral\n",
      "Saving     [*****************************************] ETC: --"
     ]
    },
    {
     "data": {
      "text/plain": [
       "T"
      ]
     },
     "execution_count": 27,
     "metadata": {},
     "output_type": "execute_result"
    }
   ],
   "source": [
    "(core:with-dtrace-trigger (leap.topology:save-amber-parm-format *protein2* \"solvated_lyz-cando.parm7\" \"solvated_lyz-cando.rst7\"))"
   ]
  },
  {
   "cell_type": "code",
   "execution_count": 28,
   "metadata": {},
   "outputs": [
    {
     "name": "stdout",
     "output_type": "stream",
     "text": [
      "Saving matter to /Users/shiho/Development/verify-cando/lysozyme/solvated_lyz-cando.mol2\n"
     ]
    },
    {
     "data": {
      "text/plain": [
       "NIL"
      ]
     },
     "execution_count": 28,
     "metadata": {},
     "output_type": "execute_result"
    }
   ],
   "source": [
    "(save-mol2 *protein2* \"solvated_lyz-cando.mol2\")"
   ]
  },
  {
   "cell_type": "code",
   "execution_count": 17,
   "metadata": {},
   "outputs": [
    {
     "name": "stdout",
     "output_type": "stream",
     "text": [
      "Unknown flag %FLAG HBOND_ACOEF                                                               \n",
      "Unknown flag %FLAG HBOND_BCOEF                                                               \n",
      "Unknown flag %FLAG HBCUT                                                                     \n",
      "Unknown flag %FLAG TREE_CHAIN_CLASSIFICATION                                                 \n",
      "Unknown flag %FLAG JOIN_ARRAY                                                                \n",
      "Unknown flag %FLAG IROTAT                                                                    \n",
      "Unknown flag %FLAG SOLVENT_POINTERS                                                          \n",
      "Unknown flag %FLAG ATOMS_PER_MOLECULE                                                        \n",
      "Unknown flag %FLAG BOX_DIMENSIONS                                                            \n",
      "Unknown flag %FLAG RADIUS_SET                                                                \n",
      "Unknown flag %FLAG RADII                                                                     \n",
      "Unknown flag %FLAG SCREEN                                                                    \n"
     ]
    },
    {
     "data": {
      "text/plain": [
       "*EF*"
      ]
     },
     "execution_count": 17,
     "metadata": {},
     "output_type": "execute_result"
    }
   ],
   "source": [
    "(:= *ef* (leap.topology::read-amber-parm-format \"solvated_lyz-cando.parm7\"))"
   ]
  },
  {
   "cell_type": "code",
   "execution_count": 18,
   "metadata": {},
   "outputs": [
    {
     "name": "stdout",
     "output_type": "stream",
     "text": [
      "Unknown flag %FLAG HBOND_ACOEF                                                               \n",
      "Unknown flag %FLAG HBOND_BCOEF                                                               \n",
      "Unknown flag %FLAG HBCUT                                                                     \n",
      "Unknown flag %FLAG TREE_CHAIN_CLASSIFICATION                                                 \n",
      "Unknown flag %FLAG JOIN_ARRAY                                                                \n",
      "Unknown flag %FLAG IROTAT                                                                    \n",
      "Unknown flag %FLAG RADIUS_SET                                                                \n",
      "Unknown flag %FLAG RADII                                                                     \n",
      "Unknown flag %FLAG SCREEN                                                                    \n",
      "Unknown flag %FLAG IPOL                                                                      \n"
     ]
    },
    {
     "data": {
      "text/plain": [
       "*EFL*"
      ]
     },
     "execution_count": 18,
     "metadata": {},
     "output_type": "execute_result"
    }
   ],
   "source": [
    "(:= *efl* (leap.topology::read-amber-parm-format \"solvated-lyz-leap.top\"))"
   ]
  },
  {
   "cell_type": "code",
   "execution_count": null,
   "metadata": {},
   "outputs": [],
   "source": [
    "(leap.topology::compare-energy-nonbond-parameters *ef* *efl*)"
   ]
  },
  {
   "cell_type": "code",
   "execution_count": 18,
   "metadata": {},
   "outputs": [
    {
     "data": {
      "text/plain": [
       "22399"
      ]
     },
     "execution_count": 18,
     "metadata": {},
     "output_type": "execute_result"
    }
   ],
   "source": [
    "(core:getpid)"
   ]
  },
  {
   "cell_type": "code",
   "execution_count": 19,
   "metadata": {},
   "outputs": [
    {
     "data": {
      "text/plain": [
       "19824"
      ]
     },
     "execution_count": 19,
     "metadata": {},
     "output_type": "execute_result"
    }
   ],
   "source": [
    "(core:getppid)"
   ]
  },
  {
   "cell_type": "code",
   "execution_count": 15,
   "metadata": {},
   "outputs": [
    {
     "name": "stdout",
     "output_type": "stream",
     "text": [
      "CORE::SIMPLE-TERMINAL-INTERRUPT  Function\n",
      "CORE::SINGLE-THREADED-TERMINAL-INTERRUPT  Function\n",
      "CORE:TERMINAL-INTERRUPT  Function\n"
     ]
    },
    {
     "data": {
      "text/plain": [
       "NIL"
      ]
     },
     "execution_count": 15,
     "metadata": {},
     "output_type": "execute_result"
    }
   ],
   "source": [
    "(apropos \"terminal-interrupt\")"
   ]
  },
  {
   "cell_type": "code",
   "execution_count": 16,
   "metadata": {},
   "outputs": [
    {
     "data": {
      "text/plain": [
       "#<FUNCTION CORE:TERMINAL-INTERRUPT>"
      ]
     },
     "execution_count": 16,
     "metadata": {},
     "output_type": "execute_result"
    }
   ],
   "source": [
    "(fdefinition 'core:terminal-interrupt)"
   ]
  },
  {
   "cell_type": "code",
   "execution_count": 17,
   "metadata": {},
   "outputs": [
    {
     "data": {
      "text/plain": [
       "(#<PROCESS repl-thread @0x10e183e09> #<PROCESS auto-flush-thread @0x10e82f1c9>\n",
       " #<PROCESS swank-indentation-cache-thread @0x10e81fe09>\n",
       " #<PROCESS reader-thread @0x10e80f0e9> #<PROCESS control-thread @0x10e80f1c9>\n",
       " #<PROCESS Swank Sentinel @0x10e1390e9>\n",
       " #<PROCESS Anonymous thread @0x10e9caee9>\n",
       " #<PROCESS REMOTE-CALL-THREAD @0x10d3aa0e9> #<PROCESS TOP-LEVEL @0x10727d2a9>)"
      ]
     },
     "execution_count": 17,
     "metadata": {},
     "output_type": "execute_result"
    }
   ],
   "source": [
    "(mp:all-processes)"
   ]
  },
  {
   "cell_type": "code",
   "execution_count": 1,
   "metadata": {},
   "outputs": [
    {
     "data": {
      "text/plain": [
       "*P*"
      ]
     },
     "execution_count": 1,
     "metadata": {},
     "output_type": "execute_result"
    }
   ],
   "source": [
    "(defparameter *p* (mp:process-run-function 'foo (lambda () (loop for x below 100 do (format t \"x is ~a~%\" x) (finish-output) (sleep 1)))))"
   ]
  },
  {
   "cell_type": "code",
   "execution_count": 2,
   "metadata": {},
   "outputs": [
    {
     "data": {
      "text/plain": [
       "(#<PROCESS FOO @0x11941e8c9> #<PROCESS Anonymous thread @0x1190888c9>\n",
       " #<PROCESS REMOTE-CALL-THREAD @0x119088ee9> #<PROCESS TOP-LEVEL @0x115ffd0e9>)"
      ]
     },
     "execution_count": 2,
     "metadata": {},
     "output_type": "execute_result"
    }
   ],
   "source": [
    "(mp:all-processes)"
   ]
  },
  {
   "cell_type": "code",
   "execution_count": 3,
   "metadata": {},
   "outputs": [
    {
     "data": {
      "text/plain": [
       "#<PROCESS FOO @0x11941e8c9>"
      ]
     },
     "execution_count": 3,
     "metadata": {},
     "output_type": "execute_result"
    }
   ],
   "source": [
    "*p*"
   ]
  },
  {
   "cell_type": "code",
   "execution_count": 4,
   "metadata": {},
   "outputs": [
    {
     "data": {
      "text/plain": [
       "NIL"
      ]
     },
     "execution_count": 4,
     "metadata": {},
     "output_type": "execute_result"
    }
   ],
   "source": [
    "(mp:process-suspend *p*)"
   ]
  },
  {
   "cell_type": "code",
   "execution_count": 5,
   "metadata": {},
   "outputs": [
    {
     "data": {
      "text/plain": [
       "NIL"
      ]
     },
     "execution_count": 5,
     "metadata": {},
     "output_type": "execute_result"
    }
   ],
   "source": [
    "(mp:process-resume *p*)"
   ]
  },
  {
   "cell_type": "code",
   "execution_count": 7,
   "metadata": {},
   "outputs": [
    {
     "data": {
      "text/plain": [
       "#<FUNCTION MP:BREAK-SUSPEND-LOOP>"
      ]
     },
     "execution_count": 7,
     "metadata": {},
     "output_type": "execute_result"
    }
   ],
   "source": [
    "(fdefinition 'mp:break-suspend-loop)"
   ]
  },
  {
   "cell_type": "code",
   "execution_count": null,
   "metadata": {},
   "outputs": [],
   "source": []
  }
 ],
 "metadata": {
  "kernelspec": {
   "display_name": "clasp",
   "language": "lisp",
   "name": "clasp"
  },
  "language_info": {
   "codemirror_mode": "text/x-common-lisp",
   "file_extension": ".lisp",
   "mimetype": "text/x-common-lisp",
   "name": "common-lisp",
   "pygments_lexer": "common-lisp",
   "version": "X3J13"
  }
 },
 "nbformat": 4,
 "nbformat_minor": 2
}
